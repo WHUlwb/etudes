{
 "cells": [
  {
   "cell_type": "code",
   "execution_count": 1,
   "metadata": {},
   "outputs": [],
   "source": [
    "library(keras)\n",
    "library(rutil)\n",
    "mnist <- dataset_mnist()\n",
    "x_train <- mnist$train$x\n"
   ]
  },
  {
   "cell_type": "code",
   "execution_count": 10,
   "metadata": {},
   "outputs": [],
   "source": [
    "options(repr.plot.width=4, repr.plot.height=3)"
   ]
  },
  {
   "cell_type": "code",
   "execution_count": 12,
   "metadata": {},
   "outputs": [],
   "source": [
    "im <- t(apply(x_train[1,,], 2, rev))\n",
    "im[im > 0] <- 1\n",
    "im[im == 0] <- -1\n",
    "\n",
    "m <- mean(im)\n",
    "im2 <- (im > m) + -1 * (im < m)\n",
    "noisy.im <- im2 + matrix(runif(28*28), 28, 28)"
   ]
  },
  {
   "cell_type": "code",
   "execution_count": 25,
   "metadata": {},
   "outputs": [
    {
     "data": {
      "image/png": "[encoded data removed]",
      "text/plain": [
       "plot without title"
      ]
     },
     "metadata": {},
     "output_type": "display_data"
    }
   ],
   "source": [
    "par(mar=c(1, 1, 1, 1), xaxs='i', yaxs='i', mfrow=c(1, 2))\n",
    "image(1:28, 1:28, im, col=gray((0:255)/255), xaxt='n', yaxt=\"n\")\n",
    "image(1:28, 1:28, noisy.im, col=gray((0:255)/255), xaxt='n', yaxt=\"n\")"
   ]
  },
  {
   "cell_type": "code",
   "execution_count": 147,
   "metadata": {},
   "outputs": [],
   "source": [
    " sigmoid <- function(x) 1 / (1+exp(-x))"
   ]
  },
  {
   "cell_type": "code",
   "execution_count": 205,
   "metadata": {},
   "outputs": [],
   "source": [
    "N <- nrow(noisy.im)\n",
    "M <- ncol(noisy.im)\n",
    "J <- .1"
   ]
  },
  {
   "cell_type": "code",
   "execution_count": 206,
   "metadata": {},
   "outputs": [],
   "source": [
    "neg.norm <- log(dnorm(as.vector(noisy.im), -1, 1))\n",
    "pos.norm <- log(dnorm(as.vector(noisy.im), 1, 1))"
   ]
  },
  {
   "cell_type": "code",
   "execution_count": 207,
   "metadata": {},
   "outputs": [],
   "source": [
    "local.evidence <- matrix(c(neg.norm, pos.norm), ncol=2)"
   ]
  },
  {
   "cell_type": "code",
   "execution_count": 208,
   "metadata": {},
   "outputs": [],
   "source": [
    "most.likely <- apply(local.evidence, 1, which.max)"
   ]
  },
  {
   "cell_type": "code",
   "execution_count": 215,
   "metadata": {},
   "outputs": [],
   "source": [
    "X <- matrix(1, N, M)\n",
    "X[most.likely == 1] <- -1\n",
    "\n",
    "set.seed(23)\n",
    "for (i in seq(100)) \n",
    "{\n",
    "  for (ix in seq(N)) \n",
    "  {\n",
    "    for (iy in seq(M)) \n",
    "    {\n",
    "      pos <- iy + M * (ix - 1)\n",
    "      neighbors <- pos + c(-1, 1, -M, M)\n",
    "      if (iy == 1) neighbors <- neighbors[!neighbors %in% (pos - 1)]\n",
    "      if (iy == N) neighbors <- neighbors[!neighbors %in% (pos + 1)]\n",
    "      if (ix == 1) neighbors <- neighbors[!neighbors %in% (pos - M)]\n",
    "      if (ix == M) neighbors <- neighbors[!neighbors %in% (pos + M)]\n",
    "      edge.potential <- 2 * J * X[pos] * sum(X[neighbors])\n",
    "      node.potential <- local.evidence[pos, 2] - local.evidence[pos, 1]\n",
    "      p  <- sigmoid(edge.potential - node.potential) \n",
    "      X[pos] <- ifelse(p >= .5, -1, 1)\n",
    "    }\n",
    "  }  \n",
    "}"
   ]
  },
  {
   "cell_type": "code",
   "execution_count": 216,
   "metadata": {},
   "outputs": [
    {
     "data": {
      "image/png": "[encoded data removed]",
      "text/plain": [
       "plot without title"
      ]
     },
     "metadata": {},
     "output_type": "display_data"
    }
   ],
   "source": [
    "options(repr.plot.width=6, repr.plot.height=3)\n",
    "par(mar=c(1, 1, 1, 1), xaxs='i', yaxs='i', mfrow=c(1, 3))\n",
    "image(1:28, 1:28, im, col=gray((0:255)/255), xaxt='n', yaxt=\"n\")\n",
    "image(1:28, 1:28, noisy.im, col=gray((0:255)/255), xaxt='n', yaxt=\"n\")\n",
    "image(1:28, 1:28, X, col=gray((0:255)/255), xaxt='n', yaxt=\"n\")"
   ]
  },
  {
   "cell_type": "code",
   "execution_count": null,
   "metadata": {},
   "outputs": [],
   "source": []
  },
  {
   "cell_type": "code",
   "execution_count": null,
   "metadata": {},
   "outputs": [],
   "source": []
  }
 ],
 "metadata": {
  "kernelspec": {
   "display_name": "R",
   "language": "R",
   "name": "ir"
  },
  "language_info": {
   "codemirror_mode": "r",
   "file_extension": ".r",
   "mimetype": "text/x-r-source",
   "name": "R",
   "pygments_lexer": "r",
   "version": "3.5.0"
  }
 },
 "nbformat": 4,
 "nbformat_minor": 2
}
