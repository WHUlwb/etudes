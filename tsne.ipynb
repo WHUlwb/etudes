{
 "cells": [
  {
   "cell_type": "markdown",
   "metadata": {},
   "source": [
    "# $t$-distributed stochastic neighbor embedding\n",
    "\n",
    "If you are one of thousands who use $t$-SNE for dimensionality reduction and haven\\t read the original paper, you are one lucky guy. Because here you learn that youve been wrong all along and tSNE is NOT SUITED for dimensionalty reduction. "
   ]
  },
  {
   "cell_type": "code",
   "execution_count": null,
   "metadata": {},
   "outputs": [],
   "source": [
    "perp <- 10\n",
    "eta <- 1\n",
    "momentum <- 1"
   ]
  },
  {
   "cell_type": "code",
   "execution_count": 2,
   "metadata": {},
   "outputs": [],
   "source": [
    "library(kernlab)"
   ]
  },
  {
   "cell_type": "code",
   "execution_count": 15,
   "metadata": {},
   "outputs": [],
   "source": [
    "X <- as.matrix(iris[,1:4])"
   ]
  },
  {
   "cell_type": "code",
   "execution_count": 29,
   "metadata": {},
   "outputs": [],
   "source": [
    "?rbfdot"
   ]
  },
  {
   "cell_type": "code",
   "execution_count": 7,
   "metadata": {},
   "outputs": [
    {
     "ename": "ERROR",
     "evalue": "Error in rbf(X): x must be a vector\n",
     "output_type": "error",
     "traceback": [
      "Error in rbf(X): x must be a vector\nTraceback:\n",
      "1. rbf(X)",
      "2. stop(\"x must be a vector\")"
     ]
    }
   ],
   "source": [
    "rbf <-kernlab::rbfdot(sigma=1)"
   ]
  },
  {
   "cell_type": "code",
   "execution_count": 30,
   "metadata": {},
   "outputs": [],
   "source": [
    "cp <- function(X, sigmas, rbf)\n",
    "{\n",
    "    K <- kernelMatrix(rbf, X)\n",
    "    diag(K) <- 0\n",
    "    K / (apply(K, 2, sum) - 1)\n",
    "}"
   ]
  },
  {
   "cell_type": "code",
   "execution_count": 31,
   "metadata": {},
   "outputs": [],
   "source": [
    "p_ij <- cp(K, NULL, rbf)"
   ]
  },
  {
   "cell_type": "code",
   "execution_count": 33,
   "metadata": {},
   "outputs": [],
   "source": [
    "p <- (p_ij + t(p_ij)) / 2"
   ]
  },
  {
   "cell_type": "code",
   "execution_count": 36,
   "metadata": {},
   "outputs": [],
   "source": [
    "y <- matrix(rnorm(nrow(X) * 2, 0, 10e-3), nrow(X))"
   ]
  },
  {
   "cell_type": "code",
   "execution_count": null,
   "metadata": {},
   "outputs": [],
   "source": []
  }
 ],
 "metadata": {
  "kernelspec": {
   "display_name": "R",
   "language": "R",
   "name": "ir"
  },
  "language_info": {
   "codemirror_mode": "r",
   "file_extension": ".r",
   "mimetype": "text/x-r-source",
   "name": "R",
   "pygments_lexer": "r",
   "version": "3.5.0"
  }
 },
 "nbformat": 4,
 "nbformat_minor": 2
}
