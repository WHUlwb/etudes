{
 "cells": [
  {
   "cell_type": "markdown",
   "metadata": {},
   "source": [
    "# $t$-distributed stochastic neighbor embedding\n",
    "\n",
    "If you are one of thousands who use $t$-SNE for dimensionality reduction and haven\\t read the original paper, you are one lucky guy. Because here you learn that youve been wrong all along and tSNE is NOT SUITED for dimensionalty reduction. "
   ]
  },
  {
   "cell_type": "code",
   "execution_count": 3,
   "metadata": {},
   "outputs": [
    {
     "name": "stderr",
     "output_type": "stream",
     "text": [
      "── Attaching packages ─────────────────────────────────────── tidyverse 1.2.1 ──\n",
      "✔ ggplot2 3.1.0     ✔ purrr   0.2.5\n",
      "✔ tibble  1.4.2     ✔ dplyr   0.7.6\n",
      "✔ tidyr   0.8.1     ✔ stringr 1.3.1\n",
      "✔ readr   1.1.1     ✔ forcats 0.3.0\n",
      "Warning message:\n",
      "“package ‘dplyr’ was built under R version 3.5.1”── Conflicts ────────────────────────────────────────── tidyverse_conflicts() ──\n",
      "✖ ggplot2::alpha() masks kernlab::alpha()\n",
      "✖ purrr::cross()   masks kernlab::cross()\n",
      "✖ dplyr::filter()  masks stats::filter()\n",
      "✖ dplyr::lag()     masks stats::lag()\n"
     ]
    }
   ],
   "source": [
    "library(kernlab)\n",
    "library(tidyverse)"
   ]
  },
  {
   "cell_type": "code",
   "execution_count": 158,
   "metadata": {},
   "outputs": [],
   "source": [
    "X <- as.matrix(iris[,1:4])"
   ]
  },
  {
   "cell_type": "code",
   "execution_count": 159,
   "metadata": {},
   "outputs": [],
   "source": [
    "cov <- function(X, rbf, sigmas=1) {\n",
    "    K <- -as.matrix(dist(X))^2\n",
    "    K <- apply(K, 2, function(i) i / sigmas)\n",
    "    K <- exp(K)\n",
    "    diag(K) <- 0\n",
    "    K\n",
    "}"
   ]
  },
  {
   "cell_type": "code",
   "execution_count": 164,
   "metadata": {},
   "outputs": [
    {
     "data": {
      "text/html": [
       "<table>\n",
       "<thead><tr><th></th><th scope=col>1</th><th scope=col>2</th><th scope=col>3</th><th scope=col>4</th><th scope=col>5</th></tr></thead>\n",
       "<tbody>\n",
       "\t<tr><th scope=row>1</th><td>0.0000000</td><td>0.7482636</td><td>0.7710516</td><td>0.6570468</td><td>0.9801987</td></tr>\n",
       "\t<tr><th scope=row>2</th><td>0.7482636</td><td>0.0000000</td><td>0.9139312</td><td>0.8958341</td><td>0.6907343</td></tr>\n",
       "\t<tr><th scope=row>3</th><td>0.7710516</td><td>0.9139312</td><td>0.0000000</td><td>0.9417645</td><td>0.7710516</td></tr>\n",
       "\t<tr><th scope=row>4</th><td>0.6570468</td><td>0.8958341</td><td>0.9417645</td><td>0.0000000</td><td>0.6570468</td></tr>\n",
       "\t<tr><th scope=row>5</th><td>0.9801987</td><td>0.6907343</td><td>0.7710516</td><td>0.6570468</td><td>0.0000000</td></tr>\n",
       "</tbody>\n",
       "</table>\n"
      ],
      "text/latex": [
       "\\begin{tabular}{r|lllll}\n",
       "  & 1 & 2 & 3 & 4 & 5\\\\\n",
       "\\hline\n",
       "\t1 & 0.0000000 & 0.7482636 & 0.7710516 & 0.6570468 & 0.9801987\\\\\n",
       "\t2 & 0.7482636 & 0.0000000 & 0.9139312 & 0.8958341 & 0.6907343\\\\\n",
       "\t3 & 0.7710516 & 0.9139312 & 0.0000000 & 0.9417645 & 0.7710516\\\\\n",
       "\t4 & 0.6570468 & 0.8958341 & 0.9417645 & 0.0000000 & 0.6570468\\\\\n",
       "\t5 & 0.9801987 & 0.6907343 & 0.7710516 & 0.6570468 & 0.0000000\\\\\n",
       "\\end{tabular}\n"
      ],
      "text/markdown": [
       "\n",
       "| <!--/--> | 1 | 2 | 3 | 4 | 5 | \n",
       "|---|---|---|---|---|\n",
       "| 1 | 0.0000000 | 0.7482636 | 0.7710516 | 0.6570468 | 0.9801987 | \n",
       "| 2 | 0.7482636 | 0.0000000 | 0.9139312 | 0.8958341 | 0.6907343 | \n",
       "| 3 | 0.7710516 | 0.9139312 | 0.0000000 | 0.9417645 | 0.7710516 | \n",
       "| 4 | 0.6570468 | 0.8958341 | 0.9417645 | 0.0000000 | 0.6570468 | \n",
       "| 5 | 0.9801987 | 0.6907343 | 0.7710516 | 0.6570468 | 0.0000000 | \n",
       "\n",
       "\n"
      ],
      "text/plain": [
       "  1         2         3         4         5        \n",
       "1 0.0000000 0.7482636 0.7710516 0.6570468 0.9801987\n",
       "2 0.7482636 0.0000000 0.9139312 0.8958341 0.6907343\n",
       "3 0.7710516 0.9139312 0.0000000 0.9417645 0.7710516\n",
       "4 0.6570468 0.8958341 0.9417645 0.0000000 0.6570468\n",
       "5 0.9801987 0.6907343 0.7710516 0.6570468 0.0000000"
      ]
     },
     "metadata": {},
     "output_type": "display_data"
    }
   ],
   "source": [
    "cov(X)[1:5, 1:5]"
   ]
  },
  {
   "cell_type": "code",
   "execution_count": 160,
   "metadata": {},
   "outputs": [],
   "source": [
    "gaussians <- function(X, rbf, sigmas)\n",
    "{\n",
    "    K <- cov(X, rbf, sigmas)\n",
    "    sweep(K, 1, rowSums(K), \"/\")\n",
    "}"
   ]
  },
  {
   "cell_type": "code",
   "execution_count": 167,
   "metadata": {},
   "outputs": [
    {
     "data": {
      "text/html": [
       "<table>\n",
       "<thead><tr><th></th><th scope=col>1</th><th scope=col>2</th><th scope=col>3</th><th scope=col>4</th><th scope=col>5</th></tr></thead>\n",
       "<tbody>\n",
       "\t<tr><th scope=row>1</th><td>0.00000000</td><td>0.02026183</td><td>0.02087890</td><td>0.01779182</td><td>0.02654228</td></tr>\n",
       "\t<tr><th scope=row>2</th><td>0.02171367</td><td>0.00000000</td><td>0.02399731</td><td>0.02375854</td><td>0.02086226</td></tr>\n",
       "\t<tr><th scope=row>3</th><td>0.02083214</td><td>0.02204672</td><td>0.00000000</td><td>0.02226829</td><td>0.02083214</td></tr>\n",
       "\t<tr><th scope=row>4</th><td>0.01895526</td><td>0.02048271</td><td>0.02074035</td><td>0.00000000</td><td>0.01895526</td></tr>\n",
       "\t<tr><th scope=row>5</th><td>0.01891693</td><td>0.01763803</td><td>0.01803037</td><td>0.01746253</td><td>0.00000000</td></tr>\n",
       "</tbody>\n",
       "</table>\n"
      ],
      "text/latex": [
       "\\begin{tabular}{r|lllll}\n",
       "  & 1 & 2 & 3 & 4 & 5\\\\\n",
       "\\hline\n",
       "\t1 & 0.00000000 & 0.02026183 & 0.02087890 & 0.01779182 & 0.02654228\\\\\n",
       "\t2 & 0.02171367 & 0.00000000 & 0.02399731 & 0.02375854 & 0.02086226\\\\\n",
       "\t3 & 0.02083214 & 0.02204672 & 0.00000000 & 0.02226829 & 0.02083214\\\\\n",
       "\t4 & 0.01895526 & 0.02048271 & 0.02074035 & 0.00000000 & 0.01895526\\\\\n",
       "\t5 & 0.01891693 & 0.01763803 & 0.01803037 & 0.01746253 & 0.00000000\\\\\n",
       "\\end{tabular}\n"
      ],
      "text/markdown": [
       "\n",
       "| <!--/--> | 1 | 2 | 3 | 4 | 5 | \n",
       "|---|---|---|---|---|\n",
       "| 1 | 0.00000000 | 0.02026183 | 0.02087890 | 0.01779182 | 0.02654228 | \n",
       "| 2 | 0.02171367 | 0.00000000 | 0.02399731 | 0.02375854 | 0.02086226 | \n",
       "| 3 | 0.02083214 | 0.02204672 | 0.00000000 | 0.02226829 | 0.02083214 | \n",
       "| 4 | 0.01895526 | 0.02048271 | 0.02074035 | 0.00000000 | 0.01895526 | \n",
       "| 5 | 0.01891693 | 0.01763803 | 0.01803037 | 0.01746253 | 0.00000000 | \n",
       "\n",
       "\n"
      ],
      "text/plain": [
       "  1          2          3          4          5         \n",
       "1 0.00000000 0.02026183 0.02087890 0.01779182 0.02654228\n",
       "2 0.02171367 0.00000000 0.02399731 0.02375854 0.02086226\n",
       "3 0.02083214 0.02204672 0.00000000 0.02226829 0.02083214\n",
       "4 0.01895526 0.02048271 0.02074035 0.00000000 0.01895526\n",
       "5 0.01891693 0.01763803 0.01803037 0.01746253 0.00000000"
      ]
     },
     "metadata": {},
     "output_type": "display_data"
    }
   ],
   "source": [
    "gaussians(X, rbf, seq(5))[1:5, 1:5]"
   ]
  },
  {
   "cell_type": "code",
   "execution_count": 197,
   "metadata": {},
   "outputs": [],
   "source": [
    "perplexity <- function(X, sigma, idx)\n",
    "{\n",
    "    gau <- gaussians(X, rbf, sigma)[idx, -idx]\n",
    "    lo <- log2(gau)\n",
    "    idx <- is.finite(lo)\n",
    "    per <- 2^(- sum(gau[idx] * lo[idx]))\n",
    "    per\n",
    "}"
   ]
  },
  {
   "cell_type": "code",
   "execution_count": 198,
   "metadata": {},
   "outputs": [],
   "source": [
    "sigmas <- function(X, target) \n",
    "{\n",
    "    sigs <- rep(1, nrow(X))\n",
    "    for (ps in seq(nrow(X)))\n",
    "    {\n",
    "        low <- 0\n",
    "        up <- 100\n",
    "        for (i in seq(100))\n",
    "        {\n",
    "            mid <- (low + up) / 2\n",
    "            val <- perplexity(X, mid, ps)\n",
    "            if (val > target) up <- mid\n",
    "            else low <- mid\n",
    "            if (abs(val - target) < 0.01) break\n",
    "        }\n",
    "        sigs[ps] <- mid\n",
    "    }\n",
    "    \n",
    "    sigs\n",
    "}"
   ]
  },
  {
   "cell_type": "code",
   "execution_count": 208,
   "metadata": {},
   "outputs": [],
   "source": [
    "sigs <- sigmas(X, 50)"
   ]
  },
  {
   "cell_type": "code",
   "execution_count": 209,
   "metadata": {},
   "outputs": [],
   "source": [
    "students <- function(X, rbf)\n",
    "{\n",
    "    K <- cov(X, rbf)\n",
    "    K <- 1 / (1 - log(K))\n",
    "    K / apply(K, 1, sum)\n",
    "}"
   ]
  },
  {
   "cell_type": "code",
   "execution_count": 210,
   "metadata": {},
   "outputs": [],
   "source": [
    "p <- gaussians(X, rbf, sigs)\n",
    "p <- (p + t(p)) / (2 * nrow(X)) "
   ]
  },
  {
   "cell_type": "code",
   "execution_count": 211,
   "metadata": {},
   "outputs": [],
   "source": [
    "eta <- .5"
   ]
  },
  {
   "cell_type": "code",
   "execution_count": 212,
   "metadata": {},
   "outputs": [],
   "source": [
    "gradient <- function(p, q, y) \n",
    "{\n",
    "    4 * do.call(\"rbind\", lapply(seq(nrow(p)), function(i) {\n",
    "        pq <- p[i, ] - q[i, ]\n",
    "        yi <- y[i,] - y\n",
    "        t <- 1 + apply(yi, 1, function(s) sum(s^2))\n",
    "        apply(pq * yi / t, 2, sum)\n",
    "    }))\n",
    "}"
   ]
  },
  {
   "cell_type": "code",
   "execution_count": 213,
   "metadata": {},
   "outputs": [],
   "source": [
    "y <- matrix(rnorm(nrow(X) * 2, 0, 10e-3), nrow(X))\n",
    "q <- students(X, rbf)\n",
    "for (t in seq(1000))\n",
    "{\n",
    "    q <- students(y, rbf)\n",
    "    y <- y + eta * gradient(p, q, y)\n",
    "}"
   ]
  },
  {
   "cell_type": "code",
   "execution_count": 214,
   "metadata": {},
   "outputs": [],
   "source": [
    "options(repr.plot.height=3)"
   ]
  },
  {
   "cell_type": "code",
   "execution_count": 215,
   "metadata": {},
   "outputs": [
    {
     "data": {},
     "metadata": {},
     "output_type": "display_data"
    },
    {
     "data": {
      "image/png": "[encoded data removed]",
      "text/plain": [
       "plot without title"
      ]
     },
     "metadata": {},
     "output_type": "display_data"
    }
   ],
   "source": [
    "data.frame(Y1=y[,1], Y2=y[,2], col=iris$Species) %>%\n",
    "    ggplot() +\n",
    "    geom_point(aes(Y1, Y2, col=col)) +\n",
    "    theme_minimal()"
   ]
  },
  {
   "cell_type": "code",
   "execution_count": null,
   "metadata": {},
   "outputs": [],
   "source": []
  }
 ],
 "metadata": {
  "kernelspec": {
   "display_name": "R",
   "language": "R",
   "name": "ir"
  },
  "language_info": {
   "codemirror_mode": "r",
   "file_extension": ".r",
   "mimetype": "text/x-r-source",
   "name": "R",
   "pygments_lexer": "r",
   "version": "3.5.0"
  }
 },
 "nbformat": 4,
 "nbformat_minor": 2
}
