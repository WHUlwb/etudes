{
 "cells": [
  {
   "cell_type": "markdown",
   "metadata": {},
   "source": [
    "# $t$-distributed stochastic neighbor embedding\n",
    "\n",
    "If you are one of thousands who use $t$-SNE for dimensionality reduction on a daily basis, but still haven't read the original paper, you found the right place, because here we implement the orgininal $t$-SNE algorithm from van der Maaten's [paper](http://www.jmlr.org/papers/volume9/vandermaaten08a/vandermaaten08a.pdf).\n",
    "\n",
    "$t$-SNE find an embedding of a data set $\\mathbf{x}_i \\in \\mathbb{R}^p$, $i \\in \\{1, \\dots , n\\}$, into a lower dimensional space $\\mathbf{y}_i \\in \\mathbb{R}^q$ with $q \\ll p$.It does so by minimizing the Kullback-Leibler divergence of two probability tables\n",
    "$$\n",
    "\\sum_i \\sum _j p_{j  i} \\log \\frac{p_{j  i}}{q_{j i}},\n",
    "$$\n",
    "\n",
    "where $p_{ji}= \\frac{p_{j \\mid i} + p_{i \\mid j}}{2n}$, $p_{j \\mid i}$ are $i$ conditional random walk probabilities that $\\mathbf{x}_i$ would pick $\\mathbf{x}_j$ as neighbor with probability \n",
    "\n",
    "$$ p_{j \\mid i} = \\frac{\\exp \\left( -|| \\mathbf{x}_i - \\mathbf{x}_j || / 2\\sigma_i^2 \\right) }{\\sum_{i \\ne k} \\exp \\left( -|| \\mathbf{x}_i - \\mathbf{x}_j || / 2\\sigma_i^2 \\right) }\n",
    "$$\n",
    "\n",
    "and $q_{j i}$ are probabilities that the same points would pick each other as neighbors in the *lower* dimensional space which we want to construct:\n",
    "\n",
    "$$\n",
    "q_{j i} = \\frac{\\left( 1 + || \\mathbf{y}_i - \\mathbf{y}_j || \\right)^{-1} }{\\sum_{l \\ne k} \\left( 1 + || \\mathbf{y}_i - \\mathbf{y}_j || \\right)^{-1}}\n",
    "$$\n",
    "\n",
    "(note the nominator in this case does not sum over the same indicies as above which makes it symmetric). Look for more details in the paper."
   ]
  },
  {
   "cell_type": "markdown",
   "metadata": {},
   "source": [
    "Let's test this with the iris data."
   ]
  },
  {
   "cell_type": "code",
   "execution_count": 1,
   "metadata": {},
   "outputs": [
    {
     "name": "stderr",
     "output_type": "stream",
     "text": [
      "── Attaching packages ─────────────────────────────────────── tidyverse 1.2.1 ──\n",
      "✔ ggplot2 3.1.0     ✔ purrr   0.2.5\n",
      "✔ tibble  1.4.2     ✔ dplyr   0.7.6\n",
      "✔ tidyr   0.8.1     ✔ stringr 1.3.1\n",
      "✔ readr   1.1.1     ✔ forcats 0.3.0\n",
      "Warning message:\n",
      "“package ‘dplyr’ was built under R version 3.5.1”── Conflicts ────────────────────────────────────────── tidyverse_conflicts() ──\n",
      "✖ ggplot2::alpha() masks kernlab::alpha()\n",
      "✖ purrr::cross()   masks kernlab::cross()\n",
      "✖ dplyr::filter()  masks stats::filter()\n",
      "✖ dplyr::lag()     masks stats::lag()\n"
     ]
    }
   ],
   "source": [
    "library(kernlab)\n",
    "library(tidyverse)"
   ]
  },
  {
   "cell_type": "code",
   "execution_count": 2,
   "metadata": {},
   "outputs": [],
   "source": [
    "X <- as.matrix(iris[,1:4])"
   ]
  },
  {
   "cell_type": "markdown",
   "metadata": {},
   "source": [
    "To compute the kernels, we define a `cov` function."
   ]
  },
  {
   "cell_type": "code",
   "execution_count": 3,
   "metadata": {},
   "outputs": [],
   "source": [
    "cov <- function(X, rbf, sigmas=1) {\n",
    "    K <- -as.matrix(dist(X))^2\n",
    "    K <- apply(K, 2, function(i) i / sigmas)\n",
    "    K <- exp(K)\n",
    "    diag(K) <- 0\n",
    "    K\n",
    "}"
   ]
  },
  {
   "cell_type": "code",
   "execution_count": 4,
   "metadata": {},
   "outputs": [
    {
     "data": {
      "text/html": [
       "<table>\n",
       "<thead><tr><th></th><th scope=col>1</th><th scope=col>2</th><th scope=col>3</th><th scope=col>4</th><th scope=col>5</th></tr></thead>\n",
       "<tbody>\n",
       "\t<tr><th scope=row>1</th><td>0.0000000</td><td>0.7482636</td><td>0.7710516</td><td>0.6570468</td><td>0.9801987</td></tr>\n",
       "\t<tr><th scope=row>2</th><td>0.7482636</td><td>0.0000000</td><td>0.9139312</td><td>0.8958341</td><td>0.6907343</td></tr>\n",
       "\t<tr><th scope=row>3</th><td>0.7710516</td><td>0.9139312</td><td>0.0000000</td><td>0.9417645</td><td>0.7710516</td></tr>\n",
       "\t<tr><th scope=row>4</th><td>0.6570468</td><td>0.8958341</td><td>0.9417645</td><td>0.0000000</td><td>0.6570468</td></tr>\n",
       "\t<tr><th scope=row>5</th><td>0.9801987</td><td>0.6907343</td><td>0.7710516</td><td>0.6570468</td><td>0.0000000</td></tr>\n",
       "</tbody>\n",
       "</table>\n"
      ],
      "text/latex": [
       "\\begin{tabular}{r|lllll}\n",
       "  & 1 & 2 & 3 & 4 & 5\\\\\n",
       "\\hline\n",
       "\t1 & 0.0000000 & 0.7482636 & 0.7710516 & 0.6570468 & 0.9801987\\\\\n",
       "\t2 & 0.7482636 & 0.0000000 & 0.9139312 & 0.8958341 & 0.6907343\\\\\n",
       "\t3 & 0.7710516 & 0.9139312 & 0.0000000 & 0.9417645 & 0.7710516\\\\\n",
       "\t4 & 0.6570468 & 0.8958341 & 0.9417645 & 0.0000000 & 0.6570468\\\\\n",
       "\t5 & 0.9801987 & 0.6907343 & 0.7710516 & 0.6570468 & 0.0000000\\\\\n",
       "\\end{tabular}\n"
      ],
      "text/markdown": [
       "\n",
       "| <!--/--> | 1 | 2 | 3 | 4 | 5 | \n",
       "|---|---|---|---|---|\n",
       "| 1 | 0.0000000 | 0.7482636 | 0.7710516 | 0.6570468 | 0.9801987 | \n",
       "| 2 | 0.7482636 | 0.0000000 | 0.9139312 | 0.8958341 | 0.6907343 | \n",
       "| 3 | 0.7710516 | 0.9139312 | 0.0000000 | 0.9417645 | 0.7710516 | \n",
       "| 4 | 0.6570468 | 0.8958341 | 0.9417645 | 0.0000000 | 0.6570468 | \n",
       "| 5 | 0.9801987 | 0.6907343 | 0.7710516 | 0.6570468 | 0.0000000 | \n",
       "\n",
       "\n"
      ],
      "text/plain": [
       "  1         2         3         4         5        \n",
       "1 0.0000000 0.7482636 0.7710516 0.6570468 0.9801987\n",
       "2 0.7482636 0.0000000 0.9139312 0.8958341 0.6907343\n",
       "3 0.7710516 0.9139312 0.0000000 0.9417645 0.7710516\n",
       "4 0.6570468 0.8958341 0.9417645 0.0000000 0.6570468\n",
       "5 0.9801987 0.6907343 0.7710516 0.6570468 0.0000000"
      ]
     },
     "metadata": {},
     "output_type": "display_data"
    }
   ],
   "source": [
    "cov(X)[1:5, 1:5]"
   ]
  },
  {
   "cell_type": "markdown",
   "metadata": {},
   "source": [
    "The Gaussian kernel is just the `cov` of above and made row-stochastic:"
   ]
  },
  {
   "cell_type": "code",
   "execution_count": 5,
   "metadata": {},
   "outputs": [],
   "source": [
    "gaussians <- function(X, rbf, sigmas)\n",
    "{\n",
    "    K <- cov(X, rbf, sigmas)\n",
    "    sweep(K, 1, rowSums(K), \"/\")\n",
    "}"
   ]
  },
  {
   "cell_type": "code",
   "execution_count": 6,
   "metadata": {},
   "outputs": [
    {
     "data": {
      "text/html": [
       "<table>\n",
       "<thead><tr><th></th><th scope=col>1</th><th scope=col>2</th><th scope=col>3</th><th scope=col>4</th><th scope=col>5</th></tr></thead>\n",
       "<tbody>\n",
       "\t<tr><th scope=row>1</th><td>0.00000000</td><td>0.02026183</td><td>0.02087890</td><td>0.01779182</td><td>0.02654228</td></tr>\n",
       "\t<tr><th scope=row>2</th><td>0.02295771</td><td>0.00000000</td><td>0.02804061</td><td>0.02748536</td><td>0.02119263</td></tr>\n",
       "\t<tr><th scope=row>3</th><td>0.02311743</td><td>0.02740120</td><td>0.00000000</td><td>0.02823569</td><td>0.02311743</td></tr>\n",
       "\t<tr><th scope=row>4</th><td>0.02101706</td><td>0.02865519</td><td>0.03012438</td><td>0.00000000</td><td>0.02101706</td></tr>\n",
       "\t<tr><th scope=row>5</th><td>0.02696675</td><td>0.01900315</td><td>0.02121280</td><td>0.01807635</td><td>0.00000000</td></tr>\n",
       "</tbody>\n",
       "</table>\n"
      ],
      "text/latex": [
       "\\begin{tabular}{r|lllll}\n",
       "  & 1 & 2 & 3 & 4 & 5\\\\\n",
       "\\hline\n",
       "\t1 & 0.00000000 & 0.02026183 & 0.02087890 & 0.01779182 & 0.02654228\\\\\n",
       "\t2 & 0.02295771 & 0.00000000 & 0.02804061 & 0.02748536 & 0.02119263\\\\\n",
       "\t3 & 0.02311743 & 0.02740120 & 0.00000000 & 0.02823569 & 0.02311743\\\\\n",
       "\t4 & 0.02101706 & 0.02865519 & 0.03012438 & 0.00000000 & 0.02101706\\\\\n",
       "\t5 & 0.02696675 & 0.01900315 & 0.02121280 & 0.01807635 & 0.00000000\\\\\n",
       "\\end{tabular}\n"
      ],
      "text/markdown": [
       "\n",
       "| <!--/--> | 1 | 2 | 3 | 4 | 5 | \n",
       "|---|---|---|---|---|\n",
       "| 1 | 0.00000000 | 0.02026183 | 0.02087890 | 0.01779182 | 0.02654228 | \n",
       "| 2 | 0.02295771 | 0.00000000 | 0.02804061 | 0.02748536 | 0.02119263 | \n",
       "| 3 | 0.02311743 | 0.02740120 | 0.00000000 | 0.02823569 | 0.02311743 | \n",
       "| 4 | 0.02101706 | 0.02865519 | 0.03012438 | 0.00000000 | 0.02101706 | \n",
       "| 5 | 0.02696675 | 0.01900315 | 0.02121280 | 0.01807635 | 0.00000000 | \n",
       "\n",
       "\n"
      ],
      "text/plain": [
       "  1          2          3          4          5         \n",
       "1 0.00000000 0.02026183 0.02087890 0.01779182 0.02654228\n",
       "2 0.02295771 0.00000000 0.02804061 0.02748536 0.02119263\n",
       "3 0.02311743 0.02740120 0.00000000 0.02823569 0.02311743\n",
       "4 0.02101706 0.02865519 0.03012438 0.00000000 0.02101706\n",
       "5 0.02696675 0.01900315 0.02121280 0.01807635 0.00000000"
      ]
     },
     "metadata": {},
     "output_type": "display_data"
    }
   ],
   "source": [
    "gaussians(X, rbf, 1)[1:5, 1:5]"
   ]
  },
  {
   "cell_type": "markdown",
   "metadata": {},
   "source": [
    "To compute a target Perplexity as in the paper"
   ]
  },
  {
   "cell_type": "code",
   "execution_count": 7,
   "metadata": {},
   "outputs": [],
   "source": [
    "perplexity <- function(X, sigma, idx)\n",
    "{\n",
    "    gau <- gaussians(X, rbf, sigma)[idx, -idx]\n",
    "    lo <- log2(gau)\n",
    "    idx <- is.finite(lo)\n",
    "    per <- 2^(- sum(gau[idx] * lo[idx]))\n",
    "    per\n",
    "}"
   ]
  },
  {
   "cell_type": "markdown",
   "metadata": {},
   "source": [
    "Binary search for the sigmas"
   ]
  },
  {
   "cell_type": "code",
   "execution_count": 8,
   "metadata": {},
   "outputs": [],
   "source": [
    "sigmas <- function(X, target) \n",
    "{\n",
    "    sigs <- rep(1, nrow(X))\n",
    "    for (ps in seq(nrow(X)))\n",
    "    {\n",
    "        low <- 0\n",
    "        up <- 100\n",
    "        for (i in seq(100))\n",
    "        {\n",
    "            mid <- (low + up) / 2\n",
    "            val <- perplexity(X, mid, ps)\n",
    "            if (val > target) up <- mid\n",
    "            else low <- mid\n",
    "            if (abs(val - target) < 0.01) break\n",
    "        }\n",
    "        sigs[ps] <- mid\n",
    "    }\n",
    "    \n",
    "    sigs\n",
    "}"
   ]
  },
  {
   "cell_type": "code",
   "execution_count": 9,
   "metadata": {},
   "outputs": [],
   "source": [
    "sigs <- sigmas(X, 50)"
   ]
  },
  {
   "cell_type": "markdown",
   "metadata": {},
   "source": [
    "To compute the $t$ kernel (if that's a thing) we compute the negative logarithm of the `cov`, add invert it."
   ]
  },
  {
   "cell_type": "code",
   "execution_count": 64,
   "metadata": {},
   "outputs": [],
   "source": [
    "students <- function(X, rbf)\n",
    "{\n",
    "    K <- cov(X, rbf)\n",
    "    K <- 1 / (1 - log(K))\n",
    "    diag(K) <- 0\n",
    "    K[!which(lower.tri(K))] <- 0\n",
    "    K <- K / apply(K, 1, sum)\n",
    "    K\n",
    "}"
   ]
  },
  {
   "cell_type": "code",
   "execution_count": 67,
   "metadata": {},
   "outputs": [],
   "source": [
    "p <- gaussians(X, rbf, sigs)\n",
    "p <- (p + t(p)) / (2 * nrow(X)) "
   ]
  },
  {
   "cell_type": "markdown",
   "metadata": {},
   "source": [
    "Learning rate"
   ]
  },
  {
   "cell_type": "code",
   "execution_count": 68,
   "metadata": {},
   "outputs": [],
   "source": [
    "eta <- .5"
   ]
  },
  {
   "cell_type": "markdown",
   "metadata": {},
   "source": [
    "Define gradient as in the paper:"
   ]
  },
  {
   "cell_type": "code",
   "execution_count": 69,
   "metadata": {},
   "outputs": [],
   "source": [
    "gradient <- function(p, q, y) \n",
    "{\n",
    "    4 * do.call(\"rbind\", lapply(seq(nrow(p)), function(i) {\n",
    "        pq <- p[i, ] - q[i, ]\n",
    "        yi <- y[i,] - y\n",
    "        t <- 1 + apply(yi, 1, function(s) sum(s^2))\n",
    "        apply(pq * yi / t, 2, sum)\n",
    "    }))\n",
    "}"
   ]
  },
  {
   "cell_type": "markdown",
   "metadata": {},
   "source": [
    "Actual $t$-SNE algorithm as in the paper:"
   ]
  },
  {
   "cell_type": "code",
   "execution_count": 70,
   "metadata": {},
   "outputs": [],
   "source": [
    "y <- matrix(rnorm(nrow(X) * 2, 0, 10e-3), nrow(X))\n",
    "q <- students(X, rbf)\n",
    "for (t in seq(1000))\n",
    "{\n",
    "    q <- students(y, rbf)\n",
    "    y <- y + eta * gradient(p, q, y)\n",
    "}"
   ]
  },
  {
   "cell_type": "code",
   "execution_count": 71,
   "metadata": {},
   "outputs": [],
   "source": [
    "options(repr.plot.height=3)"
   ]
  },
  {
   "cell_type": "markdown",
   "metadata": {},
   "source": [
    "And plot the results:"
   ]
  },
  {
   "cell_type": "code",
   "execution_count": 72,
   "metadata": {},
   "outputs": [
    {
     "data": {},
     "metadata": {},
     "output_type": "display_data"
    },
    {
     "data": {
      "image/png": "[encoded data removed]",
      "text/plain": [
       "plot without title"
      ]
     },
     "metadata": {},
     "output_type": "display_data"
    }
   ],
   "source": [
    "data.frame(Y1=y[,1], Y2=y[,2], col=iris$Species) %>%\n",
    "    ggplot() +\n",
    "    geom_point(aes(Y1, Y2, col=col)) +\n",
    "    theme_minimal()"
   ]
  },
  {
   "cell_type": "markdown",
   "metadata": {},
   "source": [
    "That looks great. Probably a bug somewhere above."
   ]
  }
 ],
 "metadata": {
  "kernelspec": {
   "display_name": "R",
   "language": "R",
   "name": "ir"
  },
  "language_info": {
   "codemirror_mode": "r",
   "file_extension": ".r",
   "mimetype": "text/x-r-source",
   "name": "R",
   "pygments_lexer": "r",
   "version": "3.5.0"
  }
 },
 "nbformat": 4,
 "nbformat_minor": 2
}
