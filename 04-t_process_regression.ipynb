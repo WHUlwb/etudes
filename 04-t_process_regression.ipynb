{
 "cells": [
  {
   "cell_type": "markdown",
   "metadata": {},
   "source": [
    "# T-process regression\n",
    "\n",
    "[Section 2](02-gaussian_process_regression.ipynb) introduced how we can use Gaussian processes for regression when we assumed normally distributed data. Here, we will instead use a *Student-t process*.\n",
    "Gaussian processes work fine with a fair amount of samples. With only a few samples we can use a *t-process* instead.\n",
    "\n",
    "\n",
    "I will use `rstan` and `greta` for demonstration.\n",
    "\n",
    "As usual **I do not take warranty for the correctness or completeness of this document.**"
   ]
  },
  {
   "cell_type": "code",
   "execution_count": null,
   "metadata": {},
   "outputs": [],
   "source": []
  }
 ],
 "metadata": {
  "kernelspec": {
   "display_name": "R",
   "language": "R",
   "name": "ir"
  },
  "language_info": {
   "codemirror_mode": "r",
   "file_extension": ".r",
   "mimetype": "text/x-r-source",
   "name": "R",
   "pygments_lexer": "r",
   "version": "3.5.0"
  }
 },
 "nbformat": 4,
 "nbformat_minor": 2
}
