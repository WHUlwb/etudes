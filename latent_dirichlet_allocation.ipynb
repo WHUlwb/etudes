{
 "cells": [
  {
   "cell_type": "markdown",
   "metadata": {},
   "source": [
    "# Latent Dirichlet Allocation\n",
    "\n",
    "Latent Dirichlet Allocation (LDA) formulates a hierachical model over collections of discrete data sets, for instance *words*, *documents* and *topics*. Following the [original paper](http://www.jmlr.org/papers/volume3/blei03a/blei03a.pdf) by David Blei:\n",
    "\n",
    "1) every word of a document derives from a finite mixture of topics,\n",
    "\n",
    "2) every topic is derived from an possibly infinite set of topics,\n",
    "\n",
    "3) every document is consists of by several topics.\n",
    "\n",
    "A *word* is the most basic unit of the data set, represented by a categorial variable and belonging to a vocabulary of size $W$. A *document*  $\\mathbf{D}$ is a sequence of $N$ words, i.e. a $N$-dimensional vector of categorical variables.\n",
    "A *corpus* $\\mathbf{C}$ is a collection of $D$ documents, i.e. a binary $(D \\times N)-$dimensional matrix. The goal of LDA is to infer topic probabilities for single words.\n",
    "\n",
    "In this notebook we implement a Gibbs sampler for inferring the distribution over the parameters following Kevin Murphy's [book](https://mitpress.mit.edu/books/machine-learning-1) and the [original paper](http://www.jmlr.org/papers/volume3/blei03a/blei03a.pdf)."
   ]
  },
  {
   "cell_type": "markdown",
   "metadata": {},
   "source": [
    "LDA defines the following hierarchical Bayesian model for a corpus of documents:\n",
    "\n",
    "\\begin{align*}\n",
    "\\boldsymbol \\pi_d & \\sim \\text{Dirichlet}_T(\\alpha, \\dots, \\alpha) \\\\\n",
    "\\boldsymbol \\phi_t & \\sim \\text{Dirichlet}_W(\\gamma, \\dots, \\gamma) \\\\\n",
    "z_{di} \\mid \\boldsymbol \\pi_d & \\sim \\text{Categorical}(\\boldsymbol \\pi_d) \\\\\n",
    "x_{di} \\mid z_{di} = t & \\sim \\text{Categorical}(\\boldsymbol \\phi_t)\n",
    "\\end{align*}\n",
    "\n",
    "The variables represent:\n",
    "* $d$ indexes a document\n",
    "* $T$ is the number of different topics\n",
    "* $\\boldsymbol \\pi_d$ are probabilities for each topic in document $d$\n",
    "* $t$ indexes a topic\n",
    "* $W$ is the number of different words in the vocabulary\n",
    "* $\\boldsymbol \\phi_t$ are probabilities for different words for topic $t$\n",
    "* $i$ indexes the $i$th word in a document $d$\n",
    "* $z_{di}$ is the latent topic of the $i$th word in document $d$\n",
    "* $x_{di}$ is the $i$th word in document $d$"
   ]
  },
  {
   "cell_type": "markdown",
   "metadata": {},
   "source": [
    "This inspires a very simple Gibbs sampler which we can use to infer the probabilities and the latent topics. Following Murphy's book:\n",
    "\n",
    "1) Compute $P(z_{di} = t \\mid \\dots) \\propto \\exp \\left( \\log \\pi_{dt} + \\log \\phi_{k, x_{di}} \\right)$\n",
    "\n",
    "2) Compute $P(\\boldsymbol \\pi_d \\mid \\dots) = \\text{Dirichlet}\\left(\\{ \\alpha_t + \\sum_i \\mathbb{I}(z_{di} = t )\\} \\right)$\n",
    "\n",
    "3) Compute $P(\\boldsymbol \\phi_t \\mid \\dots) = \\text{Dirichlet}\\left(\\{ \\gamma_w + \\sum_d \\sum_i \\mathbb{I}(x_{di} = w, z_{di} = t) \\right \\})$"
   ]
  },
  {
   "cell_type": "code",
   "execution_count": 53,
   "metadata": {},
   "outputs": [
    {
     "data": {
      "text/html": [
       "<table>\n",
       "<tbody>\n",
       "\t<tr><td>1</td><td>1</td><td>2</td><td>3</td><td>3</td></tr>\n",
       "\t<tr><td>1</td><td>1</td><td>2</td><td>2</td><td>2</td></tr>\n",
       "\t<tr><td>1</td><td>2</td><td>3</td><td>3</td><td>3</td></tr>\n",
       "\t<tr><td>5</td><td>5</td><td>5</td><td>5</td><td>5</td></tr>\n",
       "\t<tr><td>4</td><td>4</td><td>5</td><td>5</td><td>5</td></tr>\n",
       "\t<tr><td>4</td><td>5</td><td>5</td><td>5</td><td>5</td></tr>\n",
       "</tbody>\n",
       "</table>\n"
      ],
      "text/latex": [
       "\\begin{tabular}{lllll}\n",
       "\t 1 & 1 & 2 & 3 & 3\\\\\n",
       "\t 1 & 1 & 2 & 2 & 2\\\\\n",
       "\t 1 & 2 & 3 & 3 & 3\\\\\n",
       "\t 5 & 5 & 5 & 5 & 5\\\\\n",
       "\t 4 & 4 & 5 & 5 & 5\\\\\n",
       "\t 4 & 5 & 5 & 5 & 5\\\\\n",
       "\\end{tabular}\n"
      ],
      "text/markdown": [
       "\n",
       "| 1 | 1 | 2 | 3 | 3 | \n",
       "| 1 | 1 | 2 | 2 | 2 | \n",
       "| 1 | 2 | 3 | 3 | 3 | \n",
       "| 5 | 5 | 5 | 5 | 5 | \n",
       "| 4 | 4 | 5 | 5 | 5 | \n",
       "| 4 | 5 | 5 | 5 | 5 | \n",
       "\n",
       "\n"
      ],
      "text/plain": [
       "     [,1] [,2] [,3] [,4] [,5]\n",
       "[1,] 1    1    2    3    3   \n",
       "[2,] 1    1    2    2    2   \n",
       "[3,] 1    2    3    3    3   \n",
       "[4,] 5    5    5    5    5   \n",
       "[5,] 4    4    5    5    5   \n",
       "[6,] 4    5    5    5    5   "
      ]
     },
     "metadata": {},
     "output_type": "display_data"
    }
   ],
   "source": [
    "n_w <- 5\n",
    "words <- seq(5)\n",
    "n_d <- 6\n",
    "n_k <- 2\n",
    "X <- matrix(c(0, 0, 1, 2, 2, 0, 0,\n",
    "                      1, 1, 1, 0, 1, 2, 2, 2, \n",
    "                      rep(4, 5), 3, 3, 4 , 4, 4, 3, rep(4, 4)), ncol=5, byrow = T) + 1\n",
    "X"
   ]
  },
  {
   "cell_type": "code",
   "execution_count": 35,
   "metadata": {},
   "outputs": [],
   "source": [
    "alpha = 1\n",
    "gamma = 1"
   ]
  },
  {
   "cell_type": "code",
   "execution_count": 7,
   "metadata": {},
   "outputs": [
    {
     "name": "stderr",
     "output_type": "stream",
     "text": [
      "Loading required package: coda\n",
      "Loading required package: MASS\n",
      "##\n",
      "## Markov Chain Monte Carlo Package (MCMCpack)\n",
      "## Copyright (C) 2003-2018 Andrew D. Martin, Kevin M. Quinn, and Jong Hee Park\n",
      "##\n",
      "## Support provided by the U.S. National Science Foundation\n",
      "## (Grants SES-0350646 and SES-0350613)\n",
      "##\n"
     ]
    }
   ],
   "source": [
    "library(e1071)\n",
    "library(MCMCpack)"
   ]
  },
  {
   "cell_type": "code",
   "execution_count": 55,
   "metadata": {},
   "outputs": [
    {
     "data": {
      "text/html": [
       "<table>\n",
       "<tbody>\n",
       "\t<tr><td>2</td><td>2</td><td>1</td><td>2</td><td>1</td></tr>\n",
       "\t<tr><td>1</td><td>1</td><td>1</td><td>1</td><td>2</td></tr>\n",
       "\t<tr><td>2</td><td>1</td><td>1</td><td>2</td><td>1</td></tr>\n",
       "\t<tr><td>2</td><td>1</td><td>1</td><td>1</td><td>2</td></tr>\n",
       "\t<tr><td>1</td><td>2</td><td>2</td><td>2</td><td>2</td></tr>\n",
       "\t<tr><td>1</td><td>2</td><td>2</td><td>2</td><td>2</td></tr>\n",
       "</tbody>\n",
       "</table>\n"
      ],
      "text/latex": [
       "\\begin{tabular}{lllll}\n",
       "\t 2 & 2 & 1 & 2 & 1\\\\\n",
       "\t 1 & 1 & 1 & 1 & 2\\\\\n",
       "\t 2 & 1 & 1 & 2 & 1\\\\\n",
       "\t 2 & 1 & 1 & 1 & 2\\\\\n",
       "\t 1 & 2 & 2 & 2 & 2\\\\\n",
       "\t 1 & 2 & 2 & 2 & 2\\\\\n",
       "\\end{tabular}\n"
      ],
      "text/markdown": [
       "\n",
       "| 2 | 2 | 1 | 2 | 1 | \n",
       "| 1 | 1 | 1 | 1 | 2 | \n",
       "| 2 | 1 | 1 | 2 | 1 | \n",
       "| 2 | 1 | 1 | 1 | 2 | \n",
       "| 1 | 2 | 2 | 2 | 2 | \n",
       "| 1 | 2 | 2 | 2 | 2 | \n",
       "\n",
       "\n"
      ],
      "text/plain": [
       "     [,1] [,2] [,3] [,4] [,5]\n",
       "[1,] 2    2    1    2    1   \n",
       "[2,] 1    1    1    1    2   \n",
       "[3,] 2    1    1    2    1   \n",
       "[4,] 2    1    1    1    2   \n",
       "[5,] 1    2    2    2    2   \n",
       "[6,] 1    2    2    2    2   "
      ]
     },
     "metadata": {},
     "output_type": "display_data"
    }
   ],
   "source": [
    "(Z = matrix(rdiscrete(n_d * n_w, c(0.5, 0.5)), n_d, n_w))"
   ]
  },
  {
   "cell_type": "code",
   "execution_count": 75,
   "metadata": {},
   "outputs": [],
   "source": [
    "Pi <- matrix(0, n_d, n_k)\n",
    "for (i in seq(n_d)) \n",
    "    Pi[i,] <- rdirichlet(1, alpha * rep(1, n_k))"
   ]
  },
  {
   "cell_type": "code",
   "execution_count": 78,
   "metadata": {},
   "outputs": [
    {
     "data": {
      "text/html": [
       "<table>\n",
       "<tbody>\n",
       "\t<tr><td>0.65091572</td><td>0.3490843 </td></tr>\n",
       "\t<tr><td>0.12720843</td><td>0.8727916 </td></tr>\n",
       "\t<tr><td>0.83424220</td><td>0.1657578 </td></tr>\n",
       "\t<tr><td>0.05478778</td><td>0.9452122 </td></tr>\n",
       "\t<tr><td>0.13609949</td><td>0.8639005 </td></tr>\n",
       "\t<tr><td>0.89028534</td><td>0.1097147 </td></tr>\n",
       "</tbody>\n",
       "</table>\n"
      ],
      "text/latex": [
       "\\begin{tabular}{ll}\n",
       "\t 0.65091572 & 0.3490843 \\\\\n",
       "\t 0.12720843 & 0.8727916 \\\\\n",
       "\t 0.83424220 & 0.1657578 \\\\\n",
       "\t 0.05478778 & 0.9452122 \\\\\n",
       "\t 0.13609949 & 0.8639005 \\\\\n",
       "\t 0.89028534 & 0.1097147 \\\\\n",
       "\\end{tabular}\n"
      ],
      "text/markdown": [
       "\n",
       "| 0.65091572 | 0.3490843  | \n",
       "| 0.12720843 | 0.8727916  | \n",
       "| 0.83424220 | 0.1657578  | \n",
       "| 0.05478778 | 0.9452122  | \n",
       "| 0.13609949 | 0.8639005  | \n",
       "| 0.89028534 | 0.1097147  | \n",
       "\n",
       "\n"
      ],
      "text/plain": [
       "     [,1]       [,2]     \n",
       "[1,] 0.65091572 0.3490843\n",
       "[2,] 0.12720843 0.8727916\n",
       "[3,] 0.83424220 0.1657578\n",
       "[4,] 0.05478778 0.9452122\n",
       "[5,] 0.13609949 0.8639005\n",
       "[6,] 0.89028534 0.1097147"
      ]
     },
     "metadata": {},
     "output_type": "display_data"
    }
   ],
   "source": [
    "Pi"
   ]
  },
  {
   "cell_type": "code",
   "execution_count": 76,
   "metadata": {},
   "outputs": [],
   "source": [
    "B <- matrix(0, n_k, n_w)\n",
    "for (i in seq(n_k))\n",
    "    B[i,] <- rdirichlet(1, gamma * rep(1, n_w))"
   ]
  },
  {
   "cell_type": "code",
   "execution_count": 79,
   "metadata": {},
   "outputs": [
    {
     "data": {
      "text/html": [
       "<table>\n",
       "<tbody>\n",
       "\t<tr><td>0.1789866 </td><td>0.1825516 </td><td>0.33164416</td><td>0.1551337 </td><td>0.1516840 </td></tr>\n",
       "\t<tr><td>0.2586720 </td><td>0.2663638 </td><td>0.01744799</td><td>0.1545057 </td><td>0.3030105 </td></tr>\n",
       "</tbody>\n",
       "</table>\n"
      ],
      "text/latex": [
       "\\begin{tabular}{lllll}\n",
       "\t 0.1789866  & 0.1825516  & 0.33164416 & 0.1551337  & 0.1516840 \\\\\n",
       "\t 0.2586720  & 0.2663638  & 0.01744799 & 0.1545057  & 0.3030105 \\\\\n",
       "\\end{tabular}\n"
      ],
      "text/markdown": [
       "\n",
       "| 0.1789866  | 0.1825516  | 0.33164416 | 0.1551337  | 0.1516840  | \n",
       "| 0.2586720  | 0.2663638  | 0.01744799 | 0.1545057  | 0.3030105  | \n",
       "\n",
       "\n"
      ],
      "text/plain": [
       "     [,1]      [,2]      [,3]       [,4]      [,5]     \n",
       "[1,] 0.1789866 0.1825516 0.33164416 0.1551337 0.1516840\n",
       "[2,] 0.2586720 0.2663638 0.01744799 0.1545057 0.3030105"
      ]
     },
     "metadata": {},
     "output_type": "display_data"
    }
   ],
   "source": [
    "B"
   ]
  },
  {
   "cell_type": "code",
   "execution_count": 80,
   "metadata": {},
   "outputs": [],
   "source": [
    "for (iter in seq(100)) {\n",
    "    for (i in seq(n_d)) {\n",
    "        for (l in seq(n_w)) {\n",
    "            p_bar_il = exp(log(Pi[i, ]) + log(B[, X[i, l]]))\n",
    "            p_il = p_bar_il / sum(p_bar_il)\n",
    "            z_il = rdirichlet(1, p_il)\n",
    "            Z[i, l] = which.max(z_il)\n",
    "        }\n",
    "    }\n",
    "    \n",
    "     for (i in seq(n_d)) {\n",
    "        m <- sapply(seq(n_k), function(k) sum(Z[i, ] == k))\n",
    "        Pi[i, ] <= rdirichlet(1, alpha + m)\n",
    "    }\n",
    "                    \n",
    "    for (k in seq(n_k)) {\n",
    "        n <- rep(0, n_w)\n",
    "        for (v in seq(n_w)) {\n",
    "            for (i in seq(n_d)) {\n",
    "                for (l in seq(n_w)) {\n",
    "                    n[v] <- n[v] + sum((X[i, l] == v) & (Z[i, l] == k))\n",
    "                }\n",
    "            }\n",
    "        }\n",
    "        B[k, ] <- rdirichlet(1, gamma + n)\n",
    "    }\n",
    "}"
   ]
  },
  {
   "cell_type": "code",
   "execution_count": 81,
   "metadata": {},
   "outputs": [
    {
     "data": {
      "text/html": [
       "<table>\n",
       "<tbody>\n",
       "\t<tr><td>0.65091572</td><td>0.3490843 </td></tr>\n",
       "\t<tr><td>0.12720843</td><td>0.8727916 </td></tr>\n",
       "\t<tr><td>0.83424220</td><td>0.1657578 </td></tr>\n",
       "\t<tr><td>0.05478778</td><td>0.9452122 </td></tr>\n",
       "\t<tr><td>0.13609949</td><td>0.8639005 </td></tr>\n",
       "\t<tr><td>0.89028534</td><td>0.1097147 </td></tr>\n",
       "</tbody>\n",
       "</table>\n"
      ],
      "text/latex": [
       "\\begin{tabular}{ll}\n",
       "\t 0.65091572 & 0.3490843 \\\\\n",
       "\t 0.12720843 & 0.8727916 \\\\\n",
       "\t 0.83424220 & 0.1657578 \\\\\n",
       "\t 0.05478778 & 0.9452122 \\\\\n",
       "\t 0.13609949 & 0.8639005 \\\\\n",
       "\t 0.89028534 & 0.1097147 \\\\\n",
       "\\end{tabular}\n"
      ],
      "text/markdown": [
       "\n",
       "| 0.65091572 | 0.3490843  | \n",
       "| 0.12720843 | 0.8727916  | \n",
       "| 0.83424220 | 0.1657578  | \n",
       "| 0.05478778 | 0.9452122  | \n",
       "| 0.13609949 | 0.8639005  | \n",
       "| 0.89028534 | 0.1097147  | \n",
       "\n",
       "\n"
      ],
      "text/plain": [
       "     [,1]       [,2]     \n",
       "[1,] 0.65091572 0.3490843\n",
       "[2,] 0.12720843 0.8727916\n",
       "[3,] 0.83424220 0.1657578\n",
       "[4,] 0.05478778 0.9452122\n",
       "[5,] 0.13609949 0.8639005\n",
       "[6,] 0.89028534 0.1097147"
      ]
     },
     "metadata": {},
     "output_type": "display_data"
    }
   ],
   "source": [
    "Pi"
   ]
  },
  {
   "cell_type": "code",
   "execution_count": 83,
   "metadata": {},
   "outputs": [
    {
     "data": {
      "text/html": [
       "<table>\n",
       "<tbody>\n",
       "\t<tr><td>0.1461327  </td><td>0.03898888 </td><td>0.393484027</td><td>0.2640625  </td><td>0.1573319  </td></tr>\n",
       "\t<tr><td>0.1958099  </td><td>0.28953842 </td><td>0.009634441</td><td>0.1345433  </td><td>0.3704739  </td></tr>\n",
       "</tbody>\n",
       "</table>\n"
      ],
      "text/latex": [
       "\\begin{tabular}{lllll}\n",
       "\t 0.1461327   & 0.03898888  & 0.393484027 & 0.2640625   & 0.1573319  \\\\\n",
       "\t 0.1958099   & 0.28953842  & 0.009634441 & 0.1345433   & 0.3704739  \\\\\n",
       "\\end{tabular}\n"
      ],
      "text/markdown": [
       "\n",
       "| 0.1461327   | 0.03898888  | 0.393484027 | 0.2640625   | 0.1573319   | \n",
       "| 0.1958099   | 0.28953842  | 0.009634441 | 0.1345433   | 0.3704739   | \n",
       "\n",
       "\n"
      ],
      "text/plain": [
       "     [,1]      [,2]       [,3]        [,4]      [,5]     \n",
       "[1,] 0.1461327 0.03898888 0.393484027 0.2640625 0.1573319\n",
       "[2,] 0.1958099 0.28953842 0.009634441 0.1345433 0.3704739"
      ]
     },
     "metadata": {},
     "output_type": "display_data"
    }
   ],
   "source": [
    "B"
   ]
  },
  {
   "cell_type": "code",
   "execution_count": 84,
   "metadata": {},
   "outputs": [
    {
     "data": {
      "text/html": [
       "<table>\n",
       "<tbody>\n",
       "\t<tr><td>1</td><td>1</td><td>2</td><td>1</td><td>1</td></tr>\n",
       "\t<tr><td>2</td><td>2</td><td>2</td><td>2</td><td>2</td></tr>\n",
       "\t<tr><td>1</td><td>1</td><td>1</td><td>1</td><td>1</td></tr>\n",
       "\t<tr><td>2</td><td>2</td><td>2</td><td>2</td><td>2</td></tr>\n",
       "\t<tr><td>1</td><td>2</td><td>2</td><td>2</td><td>2</td></tr>\n",
       "\t<tr><td>1</td><td>1</td><td>1</td><td>1</td><td>1</td></tr>\n",
       "</tbody>\n",
       "</table>\n"
      ],
      "text/latex": [
       "\\begin{tabular}{lllll}\n",
       "\t 1 & 1 & 2 & 1 & 1\\\\\n",
       "\t 2 & 2 & 2 & 2 & 2\\\\\n",
       "\t 1 & 1 & 1 & 1 & 1\\\\\n",
       "\t 2 & 2 & 2 & 2 & 2\\\\\n",
       "\t 1 & 2 & 2 & 2 & 2\\\\\n",
       "\t 1 & 1 & 1 & 1 & 1\\\\\n",
       "\\end{tabular}\n"
      ],
      "text/markdown": [
       "\n",
       "| 1 | 1 | 2 | 1 | 1 | \n",
       "| 2 | 2 | 2 | 2 | 2 | \n",
       "| 1 | 1 | 1 | 1 | 1 | \n",
       "| 2 | 2 | 2 | 2 | 2 | \n",
       "| 1 | 2 | 2 | 2 | 2 | \n",
       "| 1 | 1 | 1 | 1 | 1 | \n",
       "\n",
       "\n"
      ],
      "text/plain": [
       "     [,1] [,2] [,3] [,4] [,5]\n",
       "[1,] 1    1    2    1    1   \n",
       "[2,] 2    2    2    2    2   \n",
       "[3,] 1    1    1    1    1   \n",
       "[4,] 2    2    2    2    2   \n",
       "[5,] 1    2    2    2    2   \n",
       "[6,] 1    1    1    1    1   "
      ]
     },
     "metadata": {},
     "output_type": "display_data"
    }
   ],
   "source": [
    "Z"
   ]
  },
  {
   "cell_type": "code",
   "execution_count": null,
   "metadata": {},
   "outputs": [],
   "source": []
  }
 ],
 "metadata": {
  "kernelspec": {
   "display_name": "R",
   "language": "R",
   "name": "ir"
  },
  "language_info": {
   "codemirror_mode": "r",
   "file_extension": ".r",
   "mimetype": "text/x-r-source",
   "name": "R",
   "pygments_lexer": "r",
   "version": "3.5.0"
  }
 },
 "nbformat": 4,
 "nbformat_minor": 2
}
