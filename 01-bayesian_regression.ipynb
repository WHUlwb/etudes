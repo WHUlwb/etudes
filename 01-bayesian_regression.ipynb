{
 "cells": [
  {
   "cell_type": "markdown",
   "metadata": {},
   "source": [
    "# Bayesian linear regression\n",
    "\n",
    "If we infer the parameters of a linear regression model \n",
    "\n",
    "\\begin{align}\n",
    "y \\sim \\mathcal{N}(X \\beta, \\sigma^2 I_n)\n",
    "\\end{align}\n",
    "\n",
    "where $y$ is a $n$-dimensional vector of (centered) Gaussian responses, $X$ is a $(n \\times p)$-dimensional design matrix and $\\beta$ is a vector of coefficients of appropriate size, we usually compute the MLE $\\hat{\\beta}$ as *best* solution of the problem.\n",
    "\n",
    "In a Bayesian context, where we are (I would argue) primarily interested in *analysis of beliefs*, instead of establishing *frequentist guarantees*, we introduce prior information to the model (I took the term *anaysis of beliefs* from Larry Wasserman, I think).\n",
    "\n",
    "For a linear regression model, this would mean to put a prior distribution on the coeffients $\\beta$ and on the variance $\\sigma^2$. For the coefficients we will assume a Gaussian prior (as it is conjugate to a Gaussian likelihood for our responses $y$). For $\\sigma^2$ we will use an inverse Gamma prior with hyperparameters $a$ and $b$.\n",
    "\n",
    "\\begin{align}\n",
    " \\beta &\\sim \\mathcal{N}(0, \\sigma^2 I)\\\\\n",
    " \\sigma^2 &\\sim \\mathcal{IG}(a, b),\\\\\n",
    "\\end{align}"
   ]
  },
  {
   "cell_type": "markdown",
   "metadata": {},
   "source": [
    "Small values for $a$ and $b$ will basically make the prior weakly informative. The joint prior distribution is given by:\n",
    "\n",
    "\\begin{align}\n",
    " \\beta, \\sigma^2 &\\sim \\mathcal{NIG}(0, I, a, b)\\\\\n",
    " p(\\beta, \\sigma^2) &= p(\\beta \\mid \\sigma^2) p(\\beta, \\sigma^2)\n",
    "\\end{align}"
   ]
  },
  {
   "cell_type": "markdown",
   "metadata": {},
   "source": [
    "The posterior is then:\n",
    "\n",
    "\\begin{align}\n",
    "  p(\\beta, \\sigma^2 \\mid X, y) \\propto p(y \\mid X, \\beta) p(\\beta , \\sigma^2)\n",
    "\\end{align}"
   ]
  },
  {
   "cell_type": "code",
   "execution_count": null,
   "metadata": {},
   "outputs": [],
   "source": []
  }
 ],
 "metadata": {
  "kernelspec": {
   "display_name": "Python 3",
   "language": "python",
   "name": "python3"
  },
  "language_info": {
   "codemirror_mode": {
    "name": "ipython",
    "version": 3
   },
   "file_extension": ".py",
   "mimetype": "text/x-python",
   "name": "python",
   "nbconvert_exporter": "python",
   "pygments_lexer": "ipython3",
   "version": "3.6.4"
  }
 },
 "nbformat": 4,
 "nbformat_minor": 2
}
