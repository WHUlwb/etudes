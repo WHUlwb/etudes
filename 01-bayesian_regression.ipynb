{
 "cells": [
  {
   "cell_type": "markdown",
   "metadata": {},
   "source": [
    "# Bayesian linear regression\n",
    "\n",
    "In this section we (briefly) develop the theory of Bayesian linear regression using `scipy`."
   ]
  },
  {
   "cell_type": "code",
   "execution_count": 1,
   "metadata": {},
   "outputs": [],
   "source": [
    "import scipy\n",
    "from scipy import stats\n",
    "\n",
    "%matplotlib inline\n",
    "import matplotlib.pyplot as plt"
   ]
  },
  {
   "cell_type": "markdown",
   "metadata": {},
   "source": [
    "When we infer the parameters of a linear regression model\n",
    "\n",
    "\\begin{align}\n",
    "\\mathbf{y} \\sim p(\\mathbf{y} \\mid \\mathbf{X} ,\\boldsymbol \\beta, \\sigma^2 )  = \\mathcal{N}(\\mathbf{X} \\boldsymbol \\beta, \\sigma^2 \\mathbf{I}_n),\n",
    "\\end{align}\n",
    "\n",
    "we usually compute the MLE $\\hat{\\boldsymbol \\beta}$ as *best* solution of the problem. Here, $\\mathbf{y}$ is a $n$-dimensional vector of (centered) Gaussian responses, $\\mathbf{X}$ is a $(n \\times p)$-dimensional design matrix, $\\boldsymbol \\beta$ is a vector of coefficients of appropriate size and $\\sigma^2$ is a scalar.\n",
    "\n",
    "In a Bayesian context, where we are (I would generally argue) primarily interested in *analysis of beliefs*, instead of establishing *frequentist guarantees*, we introduce prior information to the model (I took the term *anaysis of beliefs* from Larry Wasserman, I think).\n",
    "\n",
    "As a refresher, the maximum likelihood estimate would be computed as:\n",
    "\n",
    "\\begin{align}\n",
    "\\max_{\\boldsymbol \\beta, \\sigma^2} \\mathcal{L}(\\boldsymbol \\beta, \\sigma^2) = & \\max_{\\boldsymbol \\beta, \\sigma^2} p(\\mathbf{y} \\mid \\mathbf{X}, \\boldsymbol \\beta, \\sigma^2),\\\\\n",
    " =& \\max_{\\boldsymbol \\beta, \\sigma^2} \\prod_i^n p(y_i \\mid \\mathbf{x}_i, \\boldsymbol \\beta, \\sigma^2).\n",
    "\\end{align}"
   ]
  },
  {
   "cell_type": "markdown",
   "metadata": {},
   "source": [
    "Let's find the MLE for $\\boldsymbol \\beta$ on a random data set. First we generate some data."
   ]
  },
  {
   "cell_type": "code",
   "execution_count": 2,
   "metadata": {},
   "outputs": [],
   "source": [
    "scipy.random.seed(23)\n",
    "\n",
    "n = 10000\n",
    "x = stats.norm.rvs(size=n)\n",
    "beta = 2\n",
    "y = x.dot(beta) + stats.norm.rvs(size=n)"
   ]
  },
  {
   "cell_type": "markdown",
   "metadata": {},
   "source": [
    "We use `scipy`'s `polyfit` function to get the MLE."
   ]
  },
  {
   "cell_type": "code",
   "execution_count": 3,
   "metadata": {},
   "outputs": [],
   "source": [
    "fit = scipy.polyfit(x, y, 1)\n",
    "fit_fn = scipy.poly1d(fit)"
   ]
  },
  {
   "cell_type": "code",
   "execution_count": 4,
   "metadata": {},
   "outputs": [
    {
     "data": {
      "image/png": "[encoded data removed]",
      "text/plain": [
       "<matplotlib.figure.Figure at 0x111a22e10>"
      ]
     },
     "metadata": {},
     "output_type": "display_data"
    }
   ],
   "source": [
    "plt.scatter(x, y, color=\"black\")\n",
    "plt.plot(x, fit_fn(x), color='red')\n",
    "plt.legend([\"Beta:\" + str(fit[0])])\n",
    "plt.title(\"Scatterplot of X vs Y\")\n",
    "plt.show()"
   ]
  },
  {
   "cell_type": "markdown",
   "metadata": {},
   "source": [
    "### Normal-Inverse Gamma Prior"
   ]
  },
  {
   "cell_type": "markdown",
   "metadata": {},
   "source": [
    "In Bayesian linear regression, we put a prior distribution on the coeffients $\\boldsymbol \\beta$ and the variance $\\sigma^2$. \n",
    "\n",
    "Here, for the coefficients we will assume a Gaussian prior (as it is conjugate to a Gaussian likelihood for our responses $\\mathbf{y}$) with mean $\\mathbf{0}$ and variance $\\sigma^2 \\mathbf{I}$. For $\\sigma^2$ we will use an inverse Gamma prior with hyperparameters $a$ and $b$.\n",
    "\n",
    "\\begin{align}\n",
    " \\boldsymbol \\beta  &\\sim \\mathcal{N}(\\mathbf{0}, \\sigma^2 \\mathbf{I}),\\\\\n",
    " \\sigma^2 &\\sim \\mathcal{IG}(a, b).\\\\\n",
    "\\end{align}\n",
    "\n",
    "Other choices of priors are of course also fine. For demonstration this will do, though. I refer to [Gelman's *Bayesian Data Analysis*](http://www.stat.columbia.edu/~gelman/book/) for more information.\n",
    "\n",
    "The joint prior distribution is given by:\n",
    "\n",
    "\\begin{align}\n",
    " \\boldsymbol \\beta, \\sigma^2 &\\sim \\mathcal{NIG}(\\mathbf{0}, \\mathbf{I}, a, b),\\\\\n",
    " p(\\boldsymbol \\beta, \\sigma^2) &= p(\\boldsymbol \\beta \\mid \\sigma^2) \\ p(\\sigma^2) \\\\\n",
    " &= \\frac{1}{ (2\\pi\\sigma^2)^{\\frac{p}{2}}} \\exp\\left(  -\\frac{1}{2\\sigma^2}    \\boldsymbol \\beta^T \\boldsymbol \\beta \\right) \\frac{b^a}{\\Gamma(a)} \\frac{1}{(\\sigma^2)^{a+1}} \\exp\\left(  -\\frac{b}{\\sigma^2} \\right), \\\\\n",
    " &\\propto \\frac{1}{(\\sigma^2)^{\\frac{p}{2} + a + 1 }} \\exp \\left(  -\\frac{1}{2\\sigma^2} \\boldsymbol \\beta^T \\boldsymbol \\beta  -\\frac{b}{\\sigma^2}\\right)\n",
    "\\end{align}\n",
    "\n",
    "In the last part I removed every factor that does not depend on the variables $\\boldsymbol \\beta$ and $\\sigma^2$."
   ]
  },
  {
   "cell_type": "markdown",
   "metadata": {},
   "source": [
    "Let's visualize these choices. First we draw $i \\in \\{1, \\dots, 10000\\}$ random samples $\\sigma^2_i$ and then use these to sample coefficients $\\boldsymbol \\beta_i$. Both can be sampled directly using `scipy`, so we don't need to implement the random number generator."
   ]
  },
  {
   "cell_type": "code",
   "execution_count": 5,
   "metadata": {},
   "outputs": [],
   "source": [
    "a = .1\n",
    "b = .1\n",
    "m = 0\n",
    "var = 1\n",
    "\n",
    "sigma_prior = stats.invgamma.rvs(size=n, a=a, scale=b)\n",
    "beta_prior = scipy.zeros(n)\n",
    "for i in range(n):\n",
    "    beta_prior[i] = stats.norm.rvs(size=1, loc=m, scale=sigma_prior[i] * var)"
   ]
  },
  {
   "cell_type": "code",
   "execution_count": 6,
   "metadata": {},
   "outputs": [
    {
     "data": {
      "text/plain": [
       "array([ 2.71520981e+07,  1.18067125e+01, -5.06306685e+13, ...,\n",
       "        5.12568674e+01, -3.78964151e+05, -2.80894467e+03])"
      ]
     },
     "execution_count": 6,
     "metadata": {},
     "output_type": "execute_result"
    }
   ],
   "source": [
    "beta_prior"
   ]
  },
  {
   "cell_type": "code",
   "execution_count": 7,
   "metadata": {},
   "outputs": [
    {
     "data": {
      "image/png": "[encoded data removed]",
      "text/plain": [
       "<matplotlib.figure.Figure at 0x113ad5860>"
      ]
     },
     "metadata": {},
     "output_type": "display_data"
    }
   ],
   "source": [
    "_, ax = plt.subplots()\n",
    "ax.set_xlim(-10, 10)\n",
    "ax.hist(beta_prior, bins=100, color=\"black\")\n",
    "plt.title(\"Prior distribution beta\")\n",
    "plt.show()"
   ]
  },
  {
   "cell_type": "markdown",
   "metadata": {},
   "source": [
    "Our prior for $\\boldsymbol \\beta$ looks uniform, even though it is technically Gaussian. Still, since it is conjugate, we can determine the posterior distribution analytically."
   ]
  },
  {
   "cell_type": "markdown",
   "metadata": {},
   "source": [
    "### Normal-Inverse Gamma Posterior \n",
    "\n",
    "The posterior in a Bayesian model is proportional to the likelihood times the prior. As stated above, since the $\\mathcal{NIG}$ prior is conjugate to the Gaussian likelihood, we will have a $\\mathcal{NIG}$ posterior:\n",
    "\n",
    "\\begin{align}\n",
    "  \\text{posterior} &\\propto \\text{likelihood} \\times \\text{prior},\\\\\n",
    "  p(\\boldsymbol \\beta, \\sigma^2 \\mid \\mathbf{X}, \\mathbf{y}) \\propto \\; &  p(\\mathbf{y} \\mid \\mathbf{X}, \\boldsymbol \\beta, \\sigma^2) \\ p(\\boldsymbol \\beta , \\sigma^2),\\\\\n",
    "  p(\\boldsymbol \\beta, \\sigma^2 \\mid \\mathbf{X}, \\mathbf{y}) \\propto \\; & \\frac{1}{(\\sigma^2)^{\\frac{n}{2}}} \\exp \\left( -\\frac{1}{2\\sigma^2} (\\mathbf{y} - \\mathbf{X} \\boldsymbol \\beta)^T(\\mathbf{y} - \\mathbf{X} \\boldsymbol \\beta)  \\right)\\\\\n",
    " & \\; \\frac{1}{(\\sigma^2)^{\\frac{p}{2} + a + 1 }} \\exp \\left(  -\\frac{1}{2\\sigma^2} \\boldsymbol \\beta^T \\boldsymbol \\beta  -\\frac{b}{\\sigma^2}\\right),\\\\\n",
    " = \\; & \\frac{1}{(\\sigma^2)^{\\frac{n}{2} + \\frac{p}{2} + a + 1 }} \\exp \\left( -\\frac{1}{2\\sigma^2}  (\\mathbf{y} - \\mathbf{X} \\boldsymbol \\beta)^T(\\mathbf{y} - \\mathbf{X} \\boldsymbol \\beta)  -\\frac{1}{2\\sigma^2} \\boldsymbol \\beta^T \\boldsymbol \\beta  -\\frac{b}{\\sigma^2}  \\right)\n",
    "\\end{align}"
   ]
  },
  {
   "cell_type": "markdown",
   "metadata": {},
   "source": [
    "As for the prior above, if we want to generate particles, we need to decompose $p(\\boldsymbol \\beta, \\sigma^2 \\mid \\mathbf{X}, \\mathbf{y})$ into $p(\\boldsymbol \\beta \\mid \\mathbf{X}, \\mathbf{y}, \\sigma^2) \\ p(\\sigma^2 \\mid \\mathbf{X}, \\mathbf{y}) $. The math is rather tedious, so I just give it here (adopted from [Murphy's book](https://mitpress.mit.edu/books/machine-learning-1)). First we derive the new hyper parameter values $a$ and $b$ for the variance $\\sigma^2$ as well as mean and variance for $\\boldsymbol \\beta$.\n",
    "\n",
    "\\begin{align*}\n",
    "p(\\boldsymbol \\beta, \\sigma^2 \\mid \\mathbf{X}, \\mathbf{y}) & = \\mathcal{NIG}(\\boldsymbol {\\tilde{\\mu}},\\mathbf{\\tilde{\\Sigma}}, \\tilde{a}, \\tilde{b}),\\\\\n",
    "\\mathbf{\\tilde{\\Sigma}} &= (\\mathbf{X}^T \\mathbf{X} + \\mathbf{I})^{-1},\\\\\n",
    "\\boldsymbol {\\tilde{\\mu}} &= \\mathbf{\\tilde{\\Sigma}}\\mathbf{X}^T \\mathbf{y},\\\\\n",
    "\\tilde{a} &= a + \\frac{n}{2},\\\\\n",
    "\\tilde{b} &= b + \\frac{1}{2}(\\mathbf{y}^T \\mathbf{y} - \\boldsymbol {\\tilde{\\mu}}^T \\boldsymbol {\\tilde{\\Sigma}}^{-1}  \\boldsymbol {\\tilde{\\mu}}) \n",
    "\\end{align*}"
   ]
  },
  {
   "cell_type": "code",
   "execution_count": 8,
   "metadata": {},
   "outputs": [],
   "source": [
    "var_tilde = 1 / (x.T.dot(x) + var)\n",
    "m_tilde = var_tilde * x.T.dot(y)\n",
    "\n",
    "a_tilde = a + n/2\n",
    "b_tilde = b + .5 *( y.T.dot(y) - m_tilde * (1/var_tilde)* m_tilde)"
   ]
  },
  {
   "cell_type": "markdown",
   "metadata": {},
   "source": [
    "Then we sample as above: first a particle from the posterior variance $p(\\sigma^2 \\mid \\mathbf{y})$, then a particle from the conditional posterior $p(\\boldsymbol \\beta \\mid  \\mathbf{y}, \\sigma^2)$."
   ]
  },
  {
   "cell_type": "code",
   "execution_count": 9,
   "metadata": {},
   "outputs": [],
   "source": [
    "sigma_post = stats.invgamma.rvs(size=n, a=a_tilde, scale=b_tilde)\n",
    "beta_post = scipy.zeros(n)\n",
    "for i in range(n):\n",
    "    beta_post[i] = stats.norm.rvs(size=1, loc=m_tilde, scale=sigma_post[i] * m_tilde)"
   ]
  },
  {
   "cell_type": "markdown",
   "metadata": {},
   "source": [
    "Let's visualize this again:"
   ]
  },
  {
   "cell_type": "code",
   "execution_count": 10,
   "metadata": {},
   "outputs": [
    {
     "data": {
      "image/png": "[encoded data removed]",
      "text/plain": [
       "<matplotlib.figure.Figure at 0x113ce7b38>"
      ]
     },
     "metadata": {},
     "output_type": "display_data"
    }
   ],
   "source": [
    "_, ax = plt.subplots()\n",
    "ax.hist(beta_post, bins=100, color=\"black\")\n",
    "ax.lines\n",
    "plt.title(\"Posterior distribution beta\")\n",
    "plt.show()"
   ]
  }
 ],
 "metadata": {
  "kernelspec": {
   "display_name": "Python 3",
   "language": "python",
   "name": "python3"
  },
  "language_info": {
   "codemirror_mode": {
    "name": "ipython",
    "version": 3
   },
   "file_extension": ".py",
   "mimetype": "text/x-python",
   "name": "python",
   "nbconvert_exporter": "python",
   "pygments_lexer": "ipython3",
   "version": "3.6.4"
  }
 },
 "nbformat": 4,
 "nbformat_minor": 2
}
