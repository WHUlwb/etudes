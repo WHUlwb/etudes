{
 "cells": [
  {
   "cell_type": "markdown",
   "metadata": {},
   "source": [
    "# Regularized regression"
   ]
  },
  {
   "cell_type": "markdown",
   "metadata": {},
   "source": [
    "Here we solve two simple $\\ell_1$-penalized regression problems using `cvxpy`. For that, we will try to infer the parameters of a\n",
    "\n",
    "- a normally distributed response,\n",
    "- and a binomially distirbuted response."
   ]
  },
  {
   "cell_type": "markdown",
   "metadata": {},
   "source": [
    "We start with loading some libraries."
   ]
  },
  {
   "cell_type": "code",
   "execution_count": 1,
   "metadata": {},
   "outputs": [],
   "source": [
    "from cvxpy import *\n",
    "import numpy as np\n",
    "import scipy as sp\n",
    "\n",
    "from sklearn import datasets\n",
    "from sklearn.model_selection import train_test_split\n",
    "from sklearn.metrics import mean_squared_error, r2_score\n",
    "from sklearn.preprocessing import StandardScaler\n",
    "from sklearn.decomposition import PCA\n",
    "from sklearn.metrics import confusion_matrix\n",
    "\n",
    "%matplotlib inline\n",
    "import matplotlib.pyplot as plt"
   ]
  },
  {
   "cell_type": "markdown",
   "metadata": {},
   "source": [
    "## Linear regression\n",
    "\n",
    "First we solve a classic linear regression problem were the response is modelled:\n",
    "\n",
    "\\begin{align*}\n",
    "y \\sim \\mathcal{N}(X \\beta, \\sigma^2 I_n),\n",
    "\\end{align*}\n",
    "\n",
    "where $y \\in \\mathbb{R}^n$, $X \\in \\mathbb{R}^{n \\times p}$ and $\\beta \\in \\mathbb{R}^p$.\n",
    "The usual way of finding the *optimal* esimates $\\hat{\\beta}$ is by maximum likelihood, i.e. by maximizing the log-likelihood function:\n",
    "\n",
    "\\begin{align*}\n",
    "\\max_{\\beta} \\sum_i^n \\log \\left( \\frac{1}{\\sqrt{2\\pi\\sigma^2}} \\exp\\left(- \\frac{ \\left(y_i - x_i^T \\beta \\right)^2}{2\\sigma^2}\\right)   \\right),\n",
    "\\end{align*}\n",
    "\n",
    "which means that we are estimating $\\mathbb{E}(Y \\mid X)$. In the loss function above we see that we only need to optimze the numerator in the exponent, so we can drop the rest. In addition we multiply the likelihood function with $-1$, such that we instead of maximizing minimize the function. There is no difference between the two, but most of the optimization literature formulate their problems as minimization tasks:\n",
    "\n",
    "\\begin{align*}\n",
    "\\min_{\\beta} & - \\sum_i^n \\log \\exp \\left(-  \\left(y_i - x_i^T \\beta \\right)^2 \\right) \\\\\n",
    "& = \\sum_i^n \\left(y_i - x_i^T \\beta \\right)^2\n",
    "\\end{align*}\n",
    "\n",
    "\n",
    "Furthermore, we want to add $\\ell_1$-penalization for the coefficients. So the loss function becomes:\n",
    "\n",
    "\\begin{align*}\n",
    "\\min_{\\beta} & \\sum_i^n \\left(y_i - x_i^T \\beta \\right)^2 + \\lambda ||\\beta||_1\\\\\n",
    "& = ||Y - X\\beta||_2^2 + \\lambda ||\\beta||_1\n",
    "\\end{align*}\n"
   ]
  },
  {
   "cell_type": "markdown",
   "metadata": {},
   "source": [
    "Let's try this using the Boston housing data."
   ]
  },
  {
   "cell_type": "code",
   "execution_count": 2,
   "metadata": {},
   "outputs": [],
   "source": [
    "x, y = datasets.load_boston(True)\n",
    "x = np.c_[np.ones((x.shape[0], 1)), x]\n",
    "y = (y - np.mean(y)) / np.std(y)"
   ]
  },
  {
   "cell_type": "markdown",
   "metadata": {},
   "source": [
    "Plot a histogram of the response:"
   ]
  },
  {
   "cell_type": "code",
   "execution_count": 3,
   "metadata": {},
   "outputs": [
    {
     "data": {
      "image/png": "[encoded data removed]",
      "text/plain": [
       "<matplotlib.figure.Figure at 0x1076ffe10>"
      ]
     },
     "metadata": {},
     "output_type": "display_data"
    }
   ],
   "source": [
    "plt.hist(y, bins=50, color=\"darkgrey\")\n",
    "plt.xlabel('Y')\n",
    "plt.ylabel('Count')\n",
    "plt.show()"
   ]
  },
  {
   "cell_type": "markdown",
   "metadata": {},
   "source": [
    "The data does not look Gaussian, but since we only want to try a numerical solver, this is not a big deal."
   ]
  },
  {
   "cell_type": "markdown",
   "metadata": {},
   "source": [
    "The next section sets up our problem as a convex optimization task. Since the loss function defined a above is a quadratic function of a single variable ($\\beta$), its curvature is convex, and we can use a numerical solver for convex functions from `cvxpy`."
   ]
  },
  {
   "cell_type": "markdown",
   "metadata": {},
   "source": [
    "First, we define the variables to optimize over and a constraint for $\\lambda$. We set it to one here, actually you should optimize this, e.g. using cross-validation."
   ]
  },
  {
   "cell_type": "code",
   "execution_count": 4,
   "metadata": {},
   "outputs": [],
   "source": [
    "beta = Variable(x.shape[1])\n",
    "lamb = Parameter(sign=\"positive\")\n",
    "lamb.value = 0"
   ]
  },
  {
   "cell_type": "markdown",
   "metadata": {},
   "source": [
    "Then we define and solve the loss function as a convex problem."
   ]
  },
  {
   "cell_type": "code",
   "execution_count": 5,
   "metadata": {},
   "outputs": [
    {
     "data": {
      "text/plain": [
       "11.456547564420289"
      ]
     },
     "execution_count": 5,
     "metadata": {},
     "output_type": "execute_result"
    }
   ],
   "source": [
    "loss = norm(y - x * beta, 2) \n",
    "prob = Problem(Minimize(loss))\n",
    "prob.solve()"
   ]
  },
  {
   "cell_type": "markdown",
   "metadata": {},
   "source": [
    "Get the estimates for beta $\\hat{\\beta}$."
   ]
  },
  {
   "cell_type": "code",
   "execution_count": 6,
   "metadata": {},
   "outputs": [],
   "source": [
    "beta_hat = np.asarray(beta.value).flatten()"
   ]
  },
  {
   "cell_type": "markdown",
   "metadata": {},
   "source": [
    "Compute the means for the responses $\\hat{y}$."
   ]
  },
  {
   "cell_type": "code",
   "execution_count": 7,
   "metadata": {},
   "outputs": [],
   "source": [
    "y_hat = np.dot(x, beta_hat)"
   ]
  },
  {
   "cell_type": "markdown",
   "metadata": {},
   "source": [
    "Compute the residual sum of squares and coefficient of determination $R^2$ to estimate the model quality:"
   ]
  },
  {
   "cell_type": "code",
   "execution_count": 8,
   "metadata": {},
   "outputs": [
    {
     "name": "stdout",
     "output_type": "stream",
     "text": [
      "RSS:  0.25939225713594094\n",
      "R^2:  0.740607742864059\n"
     ]
    }
   ],
   "source": [
    "residual_sum_of_squares = mean_squared_error(y, y_hat)\n",
    "r_squared = r2_score(y, y_hat)\n",
    "print(\"RSS: \", residual_sum_of_squares)\n",
    "print(\"R^2: \", r_squared)"
   ]
  },
  {
   "cell_type": "markdown",
   "metadata": {},
   "source": [
    "Finally we compute a Tukey-Ascombe plot of our data using the residuals against $\\hat{y}$."
   ]
  },
  {
   "cell_type": "code",
   "execution_count": 9,
   "metadata": {},
   "outputs": [],
   "source": [
    "residuals = y - y_hat"
   ]
  },
  {
   "cell_type": "code",
   "execution_count": 10,
   "metadata": {},
   "outputs": [
    {
     "data": {
      "image/png": "[encoded data removed]",
      "text/plain": [
       "<matplotlib.figure.Figure at 0x112d985c0>"
      ]
     },
     "metadata": {},
     "output_type": "display_data"
    }
   ],
   "source": [
    "plt.scatter(residuals, y_hat, color=\"darkgrey\")\n",
    "plt.title('Tukey-Ascombe plot', fontsize=10)\n",
    "plt.xlabel(r'Y hat')\n",
    "plt.ylabel('Residuals')\n",
    "plt.show()"
   ]
  },
  {
   "cell_type": "markdown",
   "metadata": {},
   "source": [
    "Plot a histogram of the residuals."
   ]
  },
  {
   "cell_type": "code",
   "execution_count": 11,
   "metadata": {},
   "outputs": [
    {
     "data": {
      "image/png": "[encoded data removed]",
      "text/plain": [
       "<matplotlib.figure.Figure at 0x112d72908>"
      ]
     },
     "metadata": {},
     "output_type": "display_data"
    }
   ],
   "source": [
    "plt.hist(residuals, bins=50, color=\"darkgrey\")\n",
    "plt.xlabel('Residual')\n",
    "plt.ylabel('Count')\n",
    "plt.show()"
   ]
  },
  {
   "cell_type": "markdown",
   "metadata": {},
   "source": [
    "As for the responses $y$, the residuals don't really look normal."
   ]
  },
  {
   "cell_type": "markdown",
   "metadata": {},
   "source": [
    "## Logistic regression"
   ]
  },
  {
   "cell_type": "markdown",
   "metadata": {},
   "source": [
    "Next we solve a logistic regression problem were the response (in our setting) is modelled as:\n",
    "\n",
    "\\begin{align*}\n",
    "y \\sim \\mathcal{Bernoulli}\\left(\\text{logit}^{-1} \\left( x \\beta \\right) \\right),\n",
    "\\end{align*}\n",
    "\n",
    "where $x \\in \\mathbb{R}^{p}$ and $\\beta \\in \\mathbb{R}^p$.\n",
    "\n",
    "Here we use a *logit* link function $g$, in order to ensure that $x \\beta$ is a probability. The invsere of the logit link, gives us the mean function $h$:\n",
    "\n",
    "\\begin{align*}\n",
    "g^{-1}(x_i\\beta) = h(x_i\\beta) = \\text{logit}^{-1}(x_i\\beta) = \\frac{1}{1 + \\exp(-x_i\\beta)}.\n",
    "\\end{align*}\n",
    "\n",
    "For brevity we will denote \n",
    "\n",
    "\\begin{align*}\n",
    "\\phi_i = h(x_i \\beta)\n",
    "\\end{align*}\n",
    "\n",
    "As before the usual way of finding the *optimal* esimates $\\hat{\\beta}$ is by maximum likelihood, i.e. by maximizing the log-likelihood function:\n",
    "\n",
    "\\begin{align*}\n",
    "\\max_{\\beta} & \\; \\log \\prod_i^n  \\left[\\phi_i^{y_i} \\cdot \\left(1 -\\phi_i\\right) ^{\\left(1 - y_i\\right)}  \\right],\\\\\n",
    "& \\; = \\sum_i^n y_i \\log(\\phi_i) + (1-y_i)\\log(1-\\phi_i)\n",
    "\\end{align*}\n",
    "\n",
    "which means that we are estimating $\\mathbb{E}(Y \\mid X)$ again. As before we multiply the likelihood function with $-1$ and add an $\\ell_1$ penalty:\n",
    "\n",
    "\\begin{align*}\n",
    "\\min_{\\beta} & - \\sum_i^n y_i \\log(\\phi_i) + (1-y_i)\\log(1-\\phi_i) + \\lambda ||\\beta||_1\n",
    "\\end{align*}\n",
    "\n",
    "In order to make this work with `cvxpy` we cannot directly implement $\\log(\\phi_i)$, because it would violate the DCP rules. So even though this formulation is convex, the solver would reject it. However, `cvxpy` implements the `logistic` function as $\\text{logistic}(x) = \\log(1  + \\exp(x))$.\n",
    "So, we re-write our objective using:\n",
    "\n",
    "\\begin{align*}\n",
    "\\log(\\phi_i) &= \\log\\left( \\frac{1}{1 + \\exp(-x_i \\beta)}  \\right) = - \\log(1 + \\exp(-x_i \\beta)) = - \\text{logistic}(-x_i \\beta),\\\\\n",
    "\\log(1- \\phi_i) &= \\log\\left( 1- \\frac{1}{1 + \\exp(-x_i \\beta)}  \\right) = \\log \\left( \\frac{\\exp(-x_i \\beta)}{1 + \\exp(-x_i \\beta)}  \\right) \\\\\n",
    "&= -x_i \\beta - \\log(1 + \\exp(-x_i \\beta)) = -x_i \\beta - \\text{logistic}(-x_i \\beta)\n",
    "\\end{align*}\n",
    "\n",
    "So the regularized negative log-likelihood becomes:\n",
    "\n",
    "\\begin{align*}\n",
    "\\min_{\\beta} &  \\sum_i^n  y_i \\cdot \\text{logistic}(-x_i \\beta) + (1 - y_i) \\cdot  (x_i \\beta + \\text{logistic}(-x_i \\beta)) + \\lambda ||\\beta||_1\\\\\n",
    "& =  \\sum_i^n x_i \\beta + \\text{logistic}(-x_i \\beta) - y_i x_i \\beta + \\lambda ||\\beta||_1\\\\\n",
    "& =  x_{\\{i \\mid y_i = 0 \\}} \\beta + \\text{logistic}(-x_i \\beta) + \\lambda ||\\beta||_1\n",
    "\\end{align*} \n",
    "\n",
    "(Note that the sign changed here because we dropped the minus).\n",
    "\n",
    "Before the optimization of the negative log-likelihood was identical to solving an ordinary least squares problem. Here we have to optimize the likelihood, though. That's no tragedy though and can be done efficiently."
   ]
  },
  {
   "cell_type": "markdown",
   "metadata": {},
   "source": [
    "Let's begin by loading some data:"
   ]
  },
  {
   "cell_type": "code",
   "execution_count": 12,
   "metadata": {},
   "outputs": [],
   "source": [
    "x, y = datasets.load_breast_cancer(True)\n",
    "x = np.c_[np.ones((x.shape[0], 1)), x]"
   ]
  },
  {
   "cell_type": "markdown",
   "metadata": {},
   "source": [
    "It's important to check here if our data are balanced, and that the labels are $y_i \\in \\{0, 1\\}$ (since we are using a Bernoulli likelihood)."
   ]
  },
  {
   "cell_type": "code",
   "execution_count": 13,
   "metadata": {},
   "outputs": [
    {
     "name": "stdout",
     "output_type": "stream",
     "text": [
      "Labels:  [0 1]\n",
      "Count y == 0:  212\n",
      "Count y == 1:  357\n"
     ]
    }
   ],
   "source": [
    "print(\"Labels: \", np.unique(y))\n",
    "print(\"Count y == 0: \", len(y[y==0]))\n",
    "print(\"Count y == 1: \", len(y[y==1]))"
   ]
  },
  {
   "cell_type": "markdown",
   "metadata": {},
   "source": [
    "Since the labels are not balanced we randomly select 100 observations from each group."
   ]
  },
  {
   "cell_type": "code",
   "execution_count": 14,
   "metadata": {},
   "outputs": [],
   "source": [
    "np.random.seed(23)\n",
    "\n",
    "y0_idx = np.where(y==0)[0]\n",
    "np.random.shuffle(y0_idx)\n",
    "y1_idx = np.where(y!=0)[0]\n",
    "np.random.shuffle(y1_idx)\n",
    "\n",
    "idx = np.append(y0_idx[:100], y1_idx[:100])\n",
    "np.random.shuffle(idx)\n",
    "\n",
    "x, y = x[idx, :], y[idx]"
   ]
  },
  {
   "cell_type": "markdown",
   "metadata": {},
   "source": [
    "Let's visualize this in two dimensions"
   ]
  },
  {
   "cell_type": "code",
   "execution_count": 15,
   "metadata": {},
   "outputs": [
    {
     "data": {
      "image/png": "[encoded data removed]",
      "text/plain": [
       "<matplotlib.figure.Figure at 0x11504a1d0>"
      ]
     },
     "metadata": {},
     "output_type": "display_data"
    }
   ],
   "source": [
    "pc = PCA(n_components=2).fit_transform(x)\n",
    "\n",
    "_, ax = plt.subplots()\n",
    "ax.scatter(pc[y == 1, 0], pc[y == 1, 1], c=\"darkblue\", label=\"+1\", alpha=0.5)\n",
    "ax.scatter(pc[y != 1, 0], pc[y != 1, 1], c=\"darkred\", label=\"-1\", alpha=0.5)\n",
    "ax.legend()\n",
    "ax.set_title(\"Class labels for data X\")\n",
    "plt.show()"
   ]
  },
  {
   "cell_type": "markdown",
   "metadata": {},
   "source": [
    "Next we formalize our problem using `cvxpy`. As before, we want to optimize over $\\beta$ and put an $\\ell_1$ penalty on it:"
   ]
  },
  {
   "cell_type": "code",
   "execution_count": 16,
   "metadata": {},
   "outputs": [],
   "source": [
    "beta = Variable(x.shape[1])\n",
    "lamb = Parameter(sign=\"positive\")\n",
    "lamb.value = 0.1"
   ]
  },
  {
   "cell_type": "markdown",
   "metadata": {},
   "source": [
    "The loss function is a little bit more complicated this time:"
   ]
  },
  {
   "cell_type": "code",
   "execution_count": 17,
   "metadata": {},
   "outputs": [
    {
     "data": {
      "text/plain": [
       "19.276483928904206"
      ]
     },
     "execution_count": 17,
     "metadata": {},
     "output_type": "execute_result"
    }
   ],
   "source": [
    "loss = sum(x[y == 0,:] * beta) + sum(logistic(-x * beta)) + lamb * norm(beta, 1)\n",
    "prob = Problem(Minimize(loss))\n",
    "prob.solve()"
   ]
  },
  {
   "cell_type": "code",
   "execution_count": 22,
   "metadata": {},
   "outputs": [
    {
     "data": {
      "text/plain": [
       "'ECOS'"
      ]
     },
     "execution_count": 22,
     "metadata": {},
     "output_type": "execute_result"
    }
   ],
   "source": [
    "prob.solver_stats.solver_name"
   ]
  },
  {
   "cell_type": "code",
   "execution_count": 18,
   "metadata": {},
   "outputs": [],
   "source": [
    "beta_hat = np.asarray(beta.value).flatten()"
   ]
  },
  {
   "cell_type": "markdown",
   "metadata": {},
   "source": [
    "Here we compute the means of the responses and then convert them to binary labels using a threshold of $.5$."
   ]
  },
  {
   "cell_type": "code",
   "execution_count": 19,
   "metadata": {},
   "outputs": [],
   "source": [
    "y_hat = 1/(1 + np.exp(-x.dot(beta_hat)))\n",
    "y_hat[ y_hat >= .5] = 1\n",
    "y_hat[ y_hat < .5] = 0\n",
    "y_hat = np.ndarray.astype(y_hat, \"int\")"
   ]
  },
  {
   "cell_type": "markdown",
   "metadata": {},
   "source": [
    "Next we plot our estimated labels in a principal component space:"
   ]
  },
  {
   "cell_type": "code",
   "execution_count": 20,
   "metadata": {},
   "outputs": [
    {
     "data": {
      "image/png": "[encoded data removed]",
      "text/plain": [
       "<matplotlib.figure.Figure at 0x119b01e10>"
      ]
     },
     "metadata": {},
     "output_type": "display_data"
    }
   ],
   "source": [
    "pc = PCA(n_components=2).fit_transform(x)\n",
    "\n",
    "_, ax = plt.subplots()\n",
    "ax.scatter(pc[y_hat == 1, 0], pc[y_hat == 1, 1], c=\"darkblue\", label=\"+1\", alpha=0.5)\n",
    "ax.scatter(pc[y_hat != 1, 0], pc[y_hat != 1, 1], c=\"darkred\", label=\"-1\", alpha=0.5)\n",
    "ax.legend()\n",
    "ax.set_title(\"Estimaged class labels for data X\")\n",
    "plt.show()"
   ]
  },
  {
   "cell_type": "markdown",
   "metadata": {},
   "source": [
    "Finally we plot a confusion matrix to see numbers of false positive and false negative, i.e. miss-classifications:"
   ]
  },
  {
   "cell_type": "code",
   "execution_count": 21,
   "metadata": {},
   "outputs": [],
   "source": [
    "def plot_confusion_matrix(cm, classes):\n",
    "    import itertools\n",
    "    plt.imshow(cm, interpolation='nearest', cmap=plt.cm.Blues)\n",
    "    plt.colorbar()\n",
    "    tick_marks = np.arange(2)\n",
    "    plt.xticks(tick_marks, classes, rotation=45)\n",
    "    plt.yticks(tick_marks, classes)\n",
    "\n",
    "    fmt = '.2f'\n",
    "    thresh = cm.max() / 2.\n",
    "    for i, j in itertools.product(range(cm.shape[0]), range(cm.shape[1])):\n",
    "        plt.text(j, i, format(cm[i, j], fmt),\n",
    "                 horizontalalignment=\"center\",\n",
    "                 color=\"white\" if cm[i, j] > thresh else \"black\")\n",
    "    plt.tight_layout()\n",
    "    plt.ylabel('True label')\n",
    "    plt.xlabel('Predicted label')"
   ]
  },
  {
   "cell_type": "code",
   "execution_count": 22,
   "metadata": {},
   "outputs": [
    {
     "data": {
      "image/png": "[encoded data removed]",
      "text/plain": [
       "<matplotlib.figure.Figure at 0x119ba8d30>"
      ]
     },
     "metadata": {},
     "output_type": "display_data"
    }
   ],
   "source": [
    "plot_confusion_matrix(confusion_matrix(y, y_hat), classes=[\"1\", \"-1\"])"
   ]
  },
  {
   "cell_type": "markdown",
   "metadata": {},
   "source": [
    "We were able to almost perfectly separate the data? That seems unlikely ..."
   ]
  }
 ],
 "metadata": {
  "kernelspec": {
   "display_name": "Python 3",
   "language": "python",
   "name": "python3"
  },
  "language_info": {
   "codemirror_mode": {
    "name": "ipython",
    "version": 3
   },
   "file_extension": ".py",
   "mimetype": "text/x-python",
   "name": "python",
   "nbconvert_exporter": "python",
   "pygments_lexer": "ipython3",
   "version": "3.6.4"
  }
 },
 "nbformat": 4,
 "nbformat_minor": 2
}
