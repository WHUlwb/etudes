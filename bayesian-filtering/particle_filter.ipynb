{
 "cells": [
  {
   "cell_type": "markdown",
   "metadata": {},
   "source": [
    "## Implementation of a particle filter as part of an exercise of *Recursive Estimation*"
   ]
  },
  {
   "cell_type": "markdown",
   "metadata": {},
   "source": [
    "### Introduction"
   ]
  },
  {
   "cell_type": "markdown",
   "metadata": {},
   "source": [
    "We model a discrete-time temporal system as:\n",
    "\n",
    "\\begin{align}\n",
    "    x(k) &= q_{k-1}(x(k-1), v(k-1) ), \\\\\n",
    "    y(k) &= h_k(x(k), w(k)), \n",
    "\\end{align}\n",
    "\n",
    "where $x_k$ are latent states, $y_k$ are observations and $q$ and $h$ are (possibly non-linear) functions for states and observations at time $k \\in \\{0, 1, 2, \\dots \\}$.\n",
    "\n",
    "We estimate the latent states using *Bayesian tracking* which usually consists of two steps:\n",
    "\n",
    "* Prior update/state prediction: $f_p = f_{x(k) | z(k-1)} $\n",
    "* Posterior update/filtering: $f_m = f_{x(k) | z(k) } $\n",
    "\n",
    "A particle filter is an approximation of a Bayesian state estimator for general non-linear systems and noise distributions. We approximate the state distributions using a large number of samples called *particles*. The particles are propagated through the process model, weighted by their likelihood and then resampled given their weights."
   ]
  },
  {
   "cell_type": "markdown",
   "metadata": {},
   "source": [
    "First we load some `packages`:"
   ]
  },
  {
   "cell_type": "code",
   "execution_count": 1,
   "metadata": {
    "collapsed": true
   },
   "outputs": [],
   "source": [
    "from scipy.stats import norm, uniform, multivariate_normal\n",
    "import numpy as np\n",
    "import matplotlib.pyplot as plt\n",
    "import matplotlib.patches as mpatches"
   ]
  },
  {
   "cell_type": "markdown",
   "metadata": {},
   "source": [
    "In this exercise we describe the system: \n",
    "\n",
    "\\begin{align}\n",
    "    x(k) &= \\mathbf{A} x(k-1) + v(k-1), \\\\ \n",
    "    y(k) &= \\mathbf{H} x(k) + w(k-1),\n",
    "\\end{align}\n",
    "\n",
    "where $\\mathbf{A} = \\begin{pmatrix} 0.5 & 0 \\\\ 0 & 2 \\end{pmatrix}$,  $\\mathbf{H} = \\begin{pmatrix} 1 & 0 \\\\ 0 & 1 \\end{pmatrix}$, $v \\sim \\mathcal{N}(\\mathbf{0}, \\mathbf{I}) $ and $w \\sim \\mathcal{N}(\\mathbf{0}, 2\\mathbf{I}) $."
   ]
  },
  {
   "cell_type": "code",
   "execution_count": 2,
   "metadata": {
    "collapsed": false
   },
   "outputs": [
    {
     "name": "stdout",
     "output_type": "stream",
     "text": [
      "Process model matrix:\n",
      " [[ 0.5  0. ]\n",
      " [ 0.   2. ]]\n",
      "Observation model matrix:\n",
      " [[1 0]\n",
      " [0 1]]\n"
     ]
    }
   ],
   "source": [
    "A = np.matrix([[.5, 0], [0, 2]])\n",
    "print(\"Process model matrix:\\n\", A)\n",
    "H = np.matrix([[1, 0], [0, 1]])\n",
    "print(\"Observation model matrix:\\n\", H)"
   ]
  },
  {
   "cell_type": "markdown",
   "metadata": {},
   "source": [
    "First we define a function that propagates the particles through the process model:"
   ]
  },
  {
   "cell_type": "code",
   "execution_count": 3,
   "metadata": {
    "collapsed": true
   },
   "outputs": [],
   "source": [
    "def state_update(particles, A, n):\n",
    "    noise = np.matrix([norm.ppf(uniform.rvs(size=n), 0, 1), \n",
    "                       norm.ppf(uniform.rvs(size=n), 0, 1)])\n",
    "    priors = np.matmul(A, particles.T) + noise\n",
    "    return(priors.T)"
   ]
  },
  {
   "cell_type": "markdown",
   "metadata": {
    "collapsed": true
   },
   "source": [
    "The function `state_update` needs some particles for the first state update. Thus for $k=0$ we assume:\n",
    "\n",
    "$$x_m(0) \\sim \\mathcal{N}(0, 1)$$ \n",
    "\n",
    "and sample $n = 10$ particles $\\{ x_m^n(0) \\}_{i=1}^n$. Throughout the exercise we assume we only have a random number generator for uniform random variables. Thus we sample from a normal distribution using the inverse CDF (the *percent point function*) and the uniform variates."
   ]
  },
  {
   "cell_type": "code",
   "execution_count": 4,
   "metadata": {
    "collapsed": true
   },
   "outputs": [],
   "source": [
    "# particle count\n",
    "n = 10"
   ]
  },
  {
   "cell_type": "code",
   "execution_count": 5,
   "metadata": {
    "collapsed": false
   },
   "outputs": [],
   "source": [
    "# use uniform samples to get normally distributed particles\n",
    "particles = np.array([norm.ppf(uniform.rvs(size=n), 0, 1),\n",
    "                      norm.ppf(uniform.rvs(size=n), 0, 1)]).T"
   ]
  },
  {
   "cell_type": "markdown",
   "metadata": {},
   "source": [
    "We then use the particles for the process model to generate prior particles $\\{ x_p^i(1) \\}_{i=1}^n$."
   ]
  },
  {
   "cell_type": "code",
   "execution_count": 6,
   "metadata": {
    "collapsed": false
   },
   "outputs": [],
   "source": [
    "prior = state_update(particles, A, n)"
   ]
  },
  {
   "cell_type": "markdown",
   "metadata": {
    "collapsed": true
   },
   "source": [
    "Then we weigh the prior particles $\\{ x_p^i(1) \\}_{i=1}^n$ by the measurement likelihood \n",
    "\n",
    "$$\\beta_i = \\frac{1}{Z} \\ f_{y(k) | x(k)},$$\n",
    "\n",
    "where $\\frac{1}{Z}$ is a normalization constant such that $\\sum_i \\beta_i = 1$. Since we don't have the analytical form of the likelihood we use a *change of variables* using $f_{w} = \\mathcal{N}(\\mathbf{0}, 2\\mathbf{I})$:\n",
    "\n",
    "$$f_{y(k) | x(k)} = f_{w(k) | x(k)}( y(k) - x(k)).$$\n",
    "\n",
    "We then evaluate the likelihood for every particle given an observation $y(k)$, in this case for $k=1$, and compute the weights."
   ]
  },
  {
   "cell_type": "markdown",
   "metadata": {},
   "source": [
    "For $k=1$, we observe the current's system state:"
   ]
  },
  {
   "cell_type": "code",
   "execution_count": 7,
   "metadata": {
    "collapsed": false
   },
   "outputs": [
    {
     "data": {
      "text/plain": [
       "array([ 0.00070647,  0.2735368 ])"
      ]
     },
     "execution_count": 7,
     "metadata": {},
     "output_type": "execute_result"
    }
   ],
   "source": [
    "y = np.array([uniform.rvs(), uniform.rvs()])\n",
    "y"
   ]
  },
  {
   "cell_type": "markdown",
   "metadata": {},
   "source": [
    "Then we define a function to compute the weights $\\beta_n$. Since we used a change of variables we also need to provide $w$'s mean and variance:"
   ]
  },
  {
   "cell_type": "code",
   "execution_count": 8,
   "metadata": {
    "collapsed": false
   },
   "outputs": [],
   "source": [
    "def compute_weights(particles, y, n, mean_w, var_w):\n",
    "    betas = np.zeros(n)\n",
    "    for i in range(particles.shape[0]):\n",
    "        betas[i] = multivariate_normal.pdf(y - particles[i, :], mean_w, var_w)\n",
    "    betas /= sum(betas)\n",
    "    return(betas)"
   ]
  },
  {
   "cell_type": "code",
   "execution_count": 9,
   "metadata": {
    "collapsed": false
   },
   "outputs": [],
   "source": [
    "betas = compute_weights(particles, y, n, np.array([0, 0]), np.matrix([[2,0], [0,2]]))"
   ]
  },
  {
   "cell_type": "markdown",
   "metadata": {},
   "source": [
    "Finally, using the likelihood weights, we resample particles to get some *posterior samples* $\\{ x_m^i(1) \\}_{i=1}^n$."
   ]
  },
  {
   "cell_type": "code",
   "execution_count": 10,
   "metadata": {
    "collapsed": true
   },
   "outputs": [],
   "source": [
    "def resample_posterior_particles(betas, n, particles):\n",
    "    runif = uniform.rvs(size=n, loc=0, scale=1)\n",
    "    beta_cum = np.cumsum(betas)\n",
    "    post_particles = np.zeros(shape=(n, 2))\n",
    "    for i in range(particles.shape[0]):\n",
    "        for j, e in enumerate(beta_cum):\n",
    "            if runif[i] <= e:\n",
    "                post_particles[i, :] = particles[j, :] \n",
    "                break\n",
    "    return post_particles"
   ]
  },
  {
   "cell_type": "code",
   "execution_count": 11,
   "metadata": {
    "collapsed": false
   },
   "outputs": [],
   "source": [
    "particles = resample_posterior_particles(betas, n, particles)"
   ]
  },
  {
   "cell_type": "markdown",
   "metadata": {},
   "source": [
    "By iteratively applying these functions we can estimate the system's current state for a specific $k$."
   ]
  },
  {
   "cell_type": "markdown",
   "metadata": {},
   "source": [
    "### Test\n",
    "\n",
    "Lets test this with some iterations."
   ]
  },
  {
   "cell_type": "code",
   "execution_count": 12,
   "metadata": {
    "collapsed": false
   },
   "outputs": [],
   "source": [
    "n = 100\n",
    "\n",
    "states = np.zeros(shape=(10, 2))\n",
    "observations = np.zeros(shape=(10, 2))\n",
    "\n",
    "mean_v = np.array([0, 0])\n",
    "var_v = np.matrix([[1, 0], [0, 1]])\n",
    "mean_w = np.array([0, 0])\n",
    "var_w = np.matrix([[2, 0], [0, 2]])\n",
    "\n",
    "A = np.matrix([[1, 0.25], [0.25, 0.5]])"
   ]
  },
  {
   "cell_type": "code",
   "execution_count": 13,
   "metadata": {
    "collapsed": false
   },
   "outputs": [],
   "source": [
    "def plot(particles, states, observations, i):\n",
    "    ax.scatter(x=particles[:, 0] , y=particles[:, 1], marker=\".\", color=\"b\", alpha=0.1, label=\"Particles\")    \n",
    "    ax.scatter(x=observations[i, 0], y=observations[i, 1], marker=\"+\", color=\"r\", s=50, label=\"Observed state\")\n",
    "    ax.scatter(x=states[i, 0] , y=states[i, 1], marker=\"+\", color=\"g\", s=50, label=\"True state\")"
   ]
  },
  {
   "cell_type": "code",
   "execution_count": 14,
   "metadata": {
    "collapsed": true
   },
   "outputs": [],
   "source": [
    "for i in range(1, 10):\n",
    "    states[i, :] = np.matmul(A, states[i - 1, :]) + \\\n",
    "        abs(multivariate_normal.rvs(mean=mean_v, cov=var_v))\n",
    "    observations[i, :] = states[i, :] + \\\n",
    "        abs(multivariate_normal.rvs(mean=mean_w, cov=var_w))\n",
    "particles = np.array([norm.ppf(uniform.rvs(size=n), 0, 1), norm.ppf(uniform.rvs(size=n), 0, 1)]).T"
   ]
  },
  {
   "cell_type": "code",
   "execution_count": 15,
   "metadata": {
    "collapsed": false
   },
   "outputs": [
    {
     "data": {
      "text/plain": [
       "array([[ 0.        ,  0.        ],\n",
       "       [ 0.1263223 ,  1.33003241],\n",
       "       [ 1.90920914,  1.28450294],\n",
       "       [ 2.52817881,  1.56710678],\n",
       "       [ 3.12471457,  1.67999561],\n",
       "       [ 3.57245949,  2.26210475],\n",
       "       [ 4.37322139,  2.45107255],\n",
       "       [ 6.52679894,  3.09245788],\n",
       "       [ 7.45978456,  3.71748457],\n",
       "       [ 8.53437485,  4.53778683]])"
      ]
     },
     "execution_count": 15,
     "metadata": {},
     "output_type": "execute_result"
    }
   ],
   "source": [
    "states"
   ]
  },
  {
   "cell_type": "code",
   "execution_count": 16,
   "metadata": {
    "collapsed": false
   },
   "outputs": [
    {
     "data": {
      "text/plain": [
       "array([[  0.        ,   0.        ],\n",
       "       [  1.02476695,   2.75285714],\n",
       "       [  1.95856271,   1.40472226],\n",
       "       [  3.30310749,   2.03824898],\n",
       "       [  5.5905684 ,   3.63329313],\n",
       "       [  5.10549532,   2.44988578],\n",
       "       [  5.53419435,   3.50525141],\n",
       "       [  8.7695414 ,   4.33006863],\n",
       "       [  9.67965614,   4.35595199],\n",
       "       [ 11.77538327,   5.78141851]])"
      ]
     },
     "execution_count": 16,
     "metadata": {},
     "output_type": "execute_result"
    }
   ],
   "source": [
    "observations"
   ]
  },
  {
   "cell_type": "code",
   "execution_count": 17,
   "metadata": {
    "collapsed": false
   },
   "outputs": [
    {
     "data": {
      "image/png": "[encoded data removed]",
      "text/plain": [
       "<matplotlib.figure.Figure at 0x1113b5a20>"
      ]
     },
     "metadata": {},
     "output_type": "display_data"
    }
   ],
   "source": [
    "fig, ax = plt.subplots()\n",
    "plot(particles, states, observations, 0)\n",
    "\n",
    "for i in range(1, 10):    \n",
    "    particles = state_update(particles, A, n)\n",
    "    betas = compute_weights(particles, observations[i, :], n, mean_w, var_w)\n",
    "    particles = resample_posterior_particles(betas, n, particles)\n",
    "    plot(particles, states, observations, i)\n",
    "\n",
    "red_patch = mpatches.Patch(color='red', label='Observed state')\n",
    "green_patch = mpatches.Patch(color='green', label='True state')\n",
    "blue_patch = mpatches.Patch(color='blue', label='Particles')\n",
    "ax.legend(loc=\"upper left\", handles=[red_patch, green_patch, blue_patch])\n",
    "\n",
    "plt.savefig(\"_fig/particle_filter.png\", dpi=720)\n",
    "plt.show()"
   ]
  }
 ],
 "metadata": {
  "kernelspec": {
   "display_name": "Python 3",
   "language": "python",
   "name": "python3"
  },
  "language_info": {
   "codemirror_mode": {
    "name": "ipython",
    "version": 3
   },
   "file_extension": ".py",
   "mimetype": "text/x-python",
   "name": "python",
   "nbconvert_exporter": "python",
   "pygments_lexer": "ipython3",
   "version": "3.5.2"
  }
 },
 "nbformat": 4,
 "nbformat_minor": 2
}
