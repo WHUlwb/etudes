{
 "cells": [
  {
   "cell_type": "markdown",
   "metadata": {},
   "source": [
    "# ADMM\n",
    "\n",
    "This notebook implements a couple of optimization problems using the [Alternating Direction Method of Multipliers](http://stanford.edu/~boyd/papers/pdf/admm_distr_stats.pdf).\n",
    "\n",
    "As usual **I do not take warranty for the correctness or completeness of this document.**"
   ]
  },
  {
   "cell_type": "markdown",
   "metadata": {},
   "source": [
    "ADMM is a simple, powerful algorithm for convex optimization particularly suited for applications in machine learning and computational statistics. It can be used to optimize problems of the form:\n",
    "\n",
    "\\begin{align*}\n",
    "\\min \\; & \\; f(\\mathbf{x}) + g(\\mathbf{z}) \\\\\n",
    "\\text{subject to } \\; & \\; \\mathbf{A}\\mathbf{x} + \\mathbf{B}\\mathbf{z} - \\mathbf{c} = 0,\n",
    "\\end{align*}\n",
    "\n",
    "where all variables are real matrices, vectors or scalars. As noted above, we assume the functions $f$ and $g$ to be convex. For details about the stepwise iterations be referred to the review by Boyd *et al.* above."
   ]
  },
  {
   "cell_type": "code",
   "execution_count": 1,
   "metadata": {},
   "outputs": [],
   "source": [
    "options(repr.plot.width = 8, repr.plot.height = 3)"
   ]
  },
  {
   "cell_type": "markdown",
   "metadata": {},
   "source": [
    "## LASSO\n",
    "\n",
    "We start with the simplest classic: the *LASSO*. The LASSO problem in ADMM form is:\n",
    "\n",
    "\\begin{align*}\n",
    "\\arg \\min_{\\boldsymbol \\beta} & \\; f(\\boldsymbol \\beta) + g(\\boldsymbol \\beta) \\\\\n",
    " = & \\; ||\\mathbf{y} - \\mathbf{X} \\boldsymbol \\beta ||^2_2 + \\lambda || \\boldsymbol \\beta ||_1\n",
    "\\end{align*}\n",
    "\n",
    "We solve the LASSO problem with ADMM using the updates at iteration $i + 1$:\n",
    "\n",
    "\\begin{align*}\n",
    "\\boldsymbol \\beta^{i + 1} & \\leftarrow \\left(\\mathbf{X}^T \\mathbf{X} + \\rho \\mathbf{I}\\right)^{-1} \\left(\\mathbf{X}^T \\mathbf{y} + \\rho(\\mathbf{z}^{i} - \\mathbf{u}^{i})\\right) \\\\\n",
    "\\mathbf{z}^{i + 1} & \\leftarrow s_{\\lambda / \\rho} \\left( \\mathbf{x}^{i + 1} + \\mathbf{u}^{i} \\right) \\\\\n",
    "\\mathbf{u}^{i + 1} & \\leftarrow \\mathbf{u}^{i} + \\mathbf{x}^{i + 1} - \\mathbf{z}^{i + 1},\n",
    "\\end{align*}\n",
    "\n",
    "where $s$ is the element-wise soft-thresholding operator. Wow, that is suprisingly easy, almost as easy as the CCD."
   ]
  },
  {
   "cell_type": "markdown",
   "metadata": {},
   "source": [
    "The LASSO and ADMM of course work for settings where $n \\ll p$, but for demonstration we will simulate a simple data set where inference of coefficients is easy. Furthermore, we won't set any regularization parameter, i.e. $\\lambda = 0$, such that we can compare our estimate to the least squares estimate. \n",
    "\n",
    "We simulate data with $n=1000$ observations and $p=10$ coefficients. In addition, to estimate an intercept, we add a leading one to the design matrix."
   ]
  },
  {
   "cell_type": "code",
   "execution_count": 2,
   "metadata": {},
   "outputs": [],
   "source": [
    "n <- 1000\n",
    "p <- 10\n",
    "beta <- c(1, rnorm(p))\n",
    "\n",
    "X <- cbind(1, matrix(rnorm(n * p), n))\n",
    "y <- X %*% beta + rnorm(n)"
   ]
  },
  {
   "cell_type": "code",
   "execution_count": 3,
   "metadata": {},
   "outputs": [],
   "source": [
    "lambda <- 0\n",
    "rho <- 1"
   ]
  },
  {
   "cell_type": "markdown",
   "metadata": {},
   "source": [
    "For the LASSO, ADMM - just like a CCD - makes use of the same matrices in every iteration. We can pre-compute those once."
   ]
  },
  {
   "cell_type": "code",
   "execution_count": 4,
   "metadata": {},
   "outputs": [],
   "source": [
    "Xty <- t(X) %*% y\n",
    "XtX <- t(X) %*% X\n",
    "XtX.rho.in <- solve(XtX + rho * diag(p + 1))"
   ]
  },
  {
   "cell_type": "markdown",
   "metadata": {},
   "source": [
    "In order to get the shrinkage effect, to make use of the soft-thresholding operator again."
   ]
  },
  {
   "cell_type": "code",
   "execution_count": 5,
   "metadata": {},
   "outputs": [],
   "source": [
    "soft.threshold <- function(x, thresh)\n",
    "{\n",
    "    sign(x) * max(abs(x) - thresh, 0)\n",
    "}"
   ]
  },
  {
   "cell_type": "markdown",
   "metadata": {},
   "source": [
    "Then we implement the ADMM for the LASSO. It's ... three lines."
   ]
  },
  {
   "cell_type": "code",
   "execution_count": 6,
   "metadata": {},
   "outputs": [],
   "source": [
    "x.step <- z.step <- u.step <- rep(1, p + 1)\n",
    "for (i in seq(100))\n",
    "{\n",
    "    x.step <- XtX.rho.in %*% (Xty + rho*(z.step - u.step))\n",
    "    z.step <- soft.threshold(x.step +  u.step, lambda / rho)\n",
    "    u.step <- u.step + x.step - z.step\n",
    "}"
   ]
  },
  {
   "cell_type": "markdown",
   "metadata": {},
   "source": [
    "Let's compare ourselves to the OLS."
   ]
  },
  {
   "cell_type": "code",
   "execution_count": 7,
   "metadata": {},
   "outputs": [],
   "source": [
    "ols.coefficients <- coef(lm(y ~ 0 + X))"
   ]
  },
  {
   "cell_type": "code",
   "execution_count": 8,
   "metadata": {},
   "outputs": [
    {
     "data": {
      "image/png": "[encoded data removed]",
      "text/plain": [
       "plot without title"
      ]
     },
     "metadata": {},
     "output_type": "display_data"
    }
   ],
   "source": [
    "plot(x.step, ols.coefficients, \n",
    "     col=\"darkgreen\", pch=19,\n",
    "     xlab = \"ADMM coefficients\", ylab=\"OLS coefficients\",    \n",
    "     panel.first = abline(lm(x.step ~ ols.coefficients), lty=2))"
   ]
  },
  {
   "cell_type": "code",
   "execution_count": null,
   "metadata": {},
   "outputs": [],
   "source": []
  }
 ],
 "metadata": {
  "kernelspec": {
   "display_name": "R",
   "language": "R",
   "name": "ir"
  },
  "language_info": {
   "codemirror_mode": "r",
   "file_extension": ".r",
   "mimetype": "text/x-r-source",
   "name": "R",
   "pygments_lexer": "r",
   "version": "3.5.0"
  }
 },
 "nbformat": 4,
 "nbformat_minor": 2
}
