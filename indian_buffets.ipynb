{
 "cells": [
  {
   "cell_type": "code",
   "execution_count": null,
   "metadata": {},
   "outputs": [],
   "source": [
    "\"\"\"\n",
    "Indian Buffet Process\n",
    "---------------------\n",
    "Generative story for IBP\n",
    "\"\"\"\n",
    "import numpy as np\n",
    "\n",
    "\n",
    "N = 10  # num of customer\n",
    "\n",
    "C = [[] for i in range(N)]  # cust. dishes assignment\n",
    "K = 0  # num of current dishes selected\n",
    "dishes = []  # num. of cust. sampled each dish\n",
    "alpha = 1  # Poisson prior\n",
    "\n",
    "for n in range(N):\n",
    "    # Sample each dish, w.p. propto the popularity of dishes\n",
    "    for k in range(K):\n",
    "        p = dishes[k] / n\n",
    "        z = np.random.binomial(n=1, p=p)\n",
    "        C[n].append(z)  # update cust. dishes assignment\n",
    "        dishes[k] += 1  # update cust. count for dish k\n",
    "\n",
    "    # Try out new dishes acc. to Poi(alpha/n)\n",
    "    new_dishes = np.random.poisson(lam=alpha)\n",
    "\n",
    "    for k in range(new_dishes):\n",
    "        C[n].append(1)\n",
    "        dishes.append(1)\n",
    "\n",
    "    # Update dish count\n",
    "    K += new_dishes\n",
    "\n",
    "# Convert to binary matrix\n",
    "C_ = np.zeros([N, K])\n",
    "\n",
    "for n in range(N):\n",
    "    C_[n, 0:len(C[n])] = np.array(C[n])\n",
    "\n",
    "print(C_)"
   ]
  }
 ],
 "metadata": {
  "kernelspec": {
   "display_name": "R",
   "language": "R",
   "name": "ir"
  },
  "language_info": {
   "codemirror_mode": "r",
   "file_extension": ".r",
   "mimetype": "text/x-r-source",
   "name": "R",
   "pygments_lexer": "r",
   "version": "3.5.0"
  }
 },
 "nbformat": 4,
 "nbformat_minor": 2
}
