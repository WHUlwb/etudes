{
 "cells": [
  {
   "cell_type": "markdown",
   "metadata": {},
   "source": [
    "# Support vector machines\n",
    "\n",
    "Here we implement a support vector machine. We first derive the Lagrangian dual of the loss function and then optimize it using a numerical optimizer from `CVXPY`. In the end we benchmark our SVM using an RBF kernel against the implementation form `scikit-learn`."
   ]
  },
  {
   "cell_type": "markdown",
   "metadata": {},
   "source": [
    "## Loss function\n",
    "\n",
    "We start by deriving the primal formulation of the loss function of an SVM:\n",
    "\n",
    "\\begin{align}\n",
    " \\min_{w, \\xi}  & \\; \\frac{1}{2}w^T w + C\\sum_i^n \\xi_i,\\\\\n",
    " \\text{s. t. } & \\; y_i (w^T x_i + b) \\ge 1 - \\xi_i,\\\\\n",
    " & \\; \\xi_i  \\ge 0,\n",
    "\\end{align}\n",
    "\n",
    "with $y_i \\in \\{-1, 1\\}$where $x_i$ are slack variables in order to allow for noise in the data."
   ]
  },
  {
   "cell_type": "markdown",
   "metadata": {},
   "source": [
    "Using Lagrange multipliers for the two constrains we get an equivalent objective function as above:\n",
    "\n",
    "\\begin{align}\n",
    " \\mathcal{L} =  & \\; \\frac{1}{2} w^T w + C\\sum_i^n \\xi_i - \\sum_i^n \\alpha_i \\left( y_i (w^T x_i + b) - 1 + \\xi_i \\right) - \\sum_i^n \\phi_i \\xi_i\n",
    "\\end{align}\n",
    "\n",
    "Since $\\alpha$ and $\\phi$ are Lagrange multipliers they need to be $\\ge 0$. Minimizing this requires setting the derivative of $\\mathcal{L}$ with respect to $w$ and $\\xi_i$ variables to zero:\n",
    "\n",
    "\\begin{align}\n",
    " \\frac{\\partial \\mathcal{L}}{\\partial w} &= 0 \\Rightarrow w=  \\sum_i^n \\alpha_i y_i x_i, \\\\\n",
    " \\frac{\\partial \\mathcal{L}}{\\partial b} &= 0 \\Rightarrow  \\sum_i^n \\alpha_i y_i = 0\\\\\n",
    "  \\frac{\\partial \\mathcal{L}}{\\partial \\xi_i} &= 0 \\Rightarrow  \\alpha_i = C -  \\phi_i\n",
    "\\end{align}"
   ]
  },
  {
   "cell_type": "markdown",
   "metadata": {},
   "source": [
    "We use these values and put them into the primal formulation of our problem which gives us the dual formulation:\n",
    "\n",
    "\\begin{align}\n",
    " \\mathcal{L} =  & \\frac{1}{2} w^T w + C\\sum_i^n \\xi_i - \\sum_i^n \\alpha_i( y_i w^T x_i - 1 + \\xi_i) - \\sum_i^n \\phi_i \\xi_i \\\\\n",
    " = & \\frac{1}{2} \\sum_i^n \\sum_j^n \\alpha_i \\alpha_j y_i y_j x_i x_j +  \\sum_i^n \\alpha_i \\xi_i + \\sum_i^n  \\phi_i \\xi_i \\\\ &- \\sum_i^n \\alpha_i y_i (\\sum_j^n \\alpha_j y_j x_j) x_i + \\sum_i^n \\alpha_i - \\sum_i^n  \\alpha_i \\xi_i - \\sum_i^n \\phi_i \\xi_i \\\\\n",
    " & = \\sum_i^n \\alpha_i - \\frac{1}{2} \\sum_i^n \\sum_j^n \\alpha_i \\alpha_j y_i y_j x_i x_j.\n",
    "\\end{align}"
   ]
  },
  {
   "cell_type": "markdown",
   "metadata": {},
   "source": [
    "## Lagrangian dual\n",
    "\n",
    "An optimal solution $c*$ of the dual problem is a lower bound of the optimal solution $p^*$ of the primal problem (see Boyd 2004). **Note that we maximize the dual while we minimize the primal**. \n",
    "\n",
    "\\begin{align}\n",
    " \\max_{\\alpha}  \\sum_i^n \\alpha_i - \\frac{1}{2} \\sum_i^n \\sum_j^n \\alpha_i \\alpha_j y_i y_j x_i x_j.\n",
    "\\end{align}\n",
    "\n",
    "If *strong duality* holds, then $c^*  = p^*$ and the optimal solution of the dual is the optimal solution of the primal. This is true for SVMs which means we can use the dual soluation.\n",
    "\n",
    "Above we forgot to add a constraint, namely the ones derived from:\n",
    "\n",
    "\\begin{align}\n",
    " \\frac{\\partial \\mathcal{L}}{\\partial w} &= 0 \\Rightarrow w=  \\sum_i^n \\alpha_i y_i x_i, \\\\\n",
    " \\frac{\\partial \\mathcal{L}}{\\partial b} &= 0 \\Rightarrow  \\sum_i^n \\alpha_i y_i = 0\\\\\n",
    "  \\frac{\\partial \\mathcal{L}}{\\partial \\xi_i} &= 0 \\Rightarrow  \\alpha_i = C -  \\phi_i\n",
    "\\end{align}\n",
    "\n",
    "Since $\\alpha$ and $\\phi$ are Lagrange multipliers they need to be larger than or equal to zero. This implies $\\psi \\le C$:\n",
    "\n",
    "\\begin{align}\n",
    " \\max_{\\alpha} & \\sum_i^n \\alpha_i - \\frac{1}{2} \\sum_i^n \\sum_j^n \\alpha_i \\alpha_j y_i y_j x_i x_j,\\\\\n",
    " \\text{s.t. } &   0 \\le \\alpha_i \\le C ,\\\\\n",
    " & \\sum_i^n \\alpha_i y_i = 0.\n",
    "\\end{align}"
   ]
  },
  {
   "cell_type": "markdown",
   "metadata": {},
   "source": [
    "The dual formulation above solves a linear classification task. We can turn this into a non-linear classifier if we replace the dot products $x_i^T x_j$ with a kernel:\n",
    "\n",
    "\\begin{align*}\n",
    "\\max_{\\alpha} & \\; \\sum_i^n \\alpha_i - \\frac{1}{2}\\sum_{i, j}^n \\alpha_i \\alpha_j y_i y_j \\color{red}{k(x_i^, x_j)}.\n",
    "\\end{align*}\n",
    "\n",
    "Generally, this is still a linear classifier in some unknown feature space. By applying the *kernel trick* we don't have to make every feature $x_i$ into a higher dimensional space but just compute the similarity of two points in this space."
   ]
  },
  {
   "cell_type": "markdown",
   "metadata": {},
   "source": [
    "As a final touch let's rewrite this a little:\n",
    "\n",
    "\\begin{align*}\n",
    "\\max_{\\psi} & \\; \\sum_i^n \\alpha_i - \\frac{1}{2} \\alpha_i \\alpha_j y_i y_j k(x_i^, x_j) \\\\\n",
    "\\Leftrightarrow \\min_{\\alpha} &  \\frac{1}{2} \\sum_{i, j}^n \\alpha_i \\alpha_j y_i y_j k(x_i^, x_j) - \\sum_i^n \\alpha_i.\n",
    "\\end{align*}\n",
    "\n",
    "Since $Q = y_i y_j k(x_i^, x_j)$ is constant we can precompute it and set:\n",
    "\n",
    "\\begin{align*}\n",
    "\\min_{\\alpha} & \\frac{1}{2} \\sum_{i, j}^n \\alpha_i Q \\alpha_j - \\sum_i^n \\alpha_i, \\\\\n",
    " &= \\frac{1}{2} \\alpha^T Q \\alpha - 1^T \\alpha, \\\\\n",
    " \\text{s.t. } &   0 \\le \\alpha_i \\le C ,\\\\\n",
    " & \\sum_i^n \\alpha_i y_i = 0.\n",
    "\\end{align*}\n",
    "\n",
    "where $1^T$ is a row-vector of all ones of length $n$. The formulation above is a quadratic optimization problem with inequality (and equality) constraints (see Boyd (2004) for an introduction to optimization) which requires $\\mathcal{O}(n^3)$ times. That means that we should be able to use interior-point, also called barrier, methods for solving.\n",
    "More suitable algorithms, such as the *Sequantial Minimal Optimization* algorithm ([found here](https://www.microsoft.com/en-us/research/publication/sequential-minimal-optimization-a-fast-algorithm-for-training-support-vector-machines/))  have been devised that only require quadratic time in $n$.\n"
   ]
  },
  {
   "cell_type": "markdown",
   "metadata": {},
   "source": [
    "## Implementation\n",
    "\n",
    "Now that the math is developed, let's implement this. We start by loading some libraries."
   ]
  },
  {
   "cell_type": "code",
   "execution_count": 1,
   "metadata": {},
   "outputs": [],
   "source": [
    "import numpy\n",
    "import scipy\n",
    "from scipy import optimize\n",
    "\n",
    "import sklearn\n",
    "from sklearn.metrics.pairwise import rbf_kernel\n",
    "from sklearn import svm\n",
    "from sklearn.datasets import make_circles\n",
    "from sklearn.datasets import load_breast_cancer\n",
    "from sklearn.metrics import confusion_matrix\n",
    "\n",
    "from cvxpy import *\n",
    "\n",
    "%matplotlib inline\n",
    "import matplotlib.pyplot as plt"
   ]
  },
  {
   "cell_type": "markdown",
   "metadata": {},
   "source": [
    "We use the binary breast cancer data from `sklearn`. In order to better visualize the data, we only train the SVM on two features. In addition I tried balancing the data before and did not use `sklearn`'s `train_test_split` function."
   ]
  },
  {
   "cell_type": "code",
   "execution_count": 2,
   "metadata": {},
   "outputs": [],
   "source": [
    "x, y = load_breast_cancer(True)\n",
    "y[y == 0] = -1\n",
    "# Center the data\n",
    "x = x - numpy.mean(x, 0)\n",
    "x, y, x_test, y_test = x[:200, :2], y[:200], x[200:300, :2], y[200:300]"
   ]
  },
  {
   "cell_type": "code",
   "execution_count": 3,
   "metadata": {},
   "outputs": [
    {
     "data": {
      "text/plain": [
       "array([[ 3.86270826, -8.90964851],\n",
       "       [ 6.44270826, -1.51964851],\n",
       "       [ 5.56270826,  1.96035149],\n",
       "       [-2.70729174,  1.09035149],\n",
       "       [ 6.16270826, -4.94964851],\n",
       "       [-1.67729174, -3.58964851],\n",
       "       [ 4.12270826,  0.69035149],\n",
       "       [-0.41729174,  1.54035149],\n",
       "       [-1.12729174,  2.53035149],\n",
       "       [-1.66729174,  4.75035149]])"
      ]
     },
     "execution_count": 3,
     "metadata": {},
     "output_type": "execute_result"
    }
   ],
   "source": [
    "x[:10, ]"
   ]
  },
  {
   "cell_type": "code",
   "execution_count": 4,
   "metadata": {},
   "outputs": [
    {
     "data": {
      "text/plain": [
       "array([-1, -1, -1, -1, -1, -1, -1, -1, -1, -1, -1, -1, -1, -1, -1, -1, -1,\n",
       "       -1, -1,  1])"
      ]
     },
     "execution_count": 4,
     "metadata": {},
     "output_type": "execute_result"
    }
   ],
   "source": [
    "y[:20]"
   ]
  },
  {
   "cell_type": "code",
   "execution_count": 5,
   "metadata": {},
   "outputs": [],
   "source": [
    "N, P = x.shape\n",
    "Q = len(y)"
   ]
  },
  {
   "cell_type": "code",
   "execution_count": 6,
   "metadata": {},
   "outputs": [
    {
     "data": {
      "image/png": "[encoded data removed]",
      "text/plain": [
       "<matplotlib.figure.Figure at 0x1125d1f98>"
      ]
     },
     "metadata": {},
     "output_type": "display_data"
    }
   ],
   "source": [
    "_, ax = plt.subplots()\n",
    "ax.scatter(x[y == 1, 0], x[y == 1, 1], c=\"darkblue\", label=\"+1\", alpha=0.5)\n",
    "ax.scatter(x[y != 1, 0], x[y != 1, 1], c=\"darkred\", label=\"-1\", alpha=0.5)\n",
    "ax.legend()\n",
    "ax.set_title(\"Class labels for data X\")\n",
    "plt.show()"
   ]
  },
  {
   "cell_type": "markdown",
   "metadata": {},
   "source": [
    "The data look pretty already pretty separable on only two dimensions. Let's check if they are roughly balanced:"
   ]
  },
  {
   "cell_type": "code",
   "execution_count": 7,
   "metadata": {},
   "outputs": [
    {
     "name": "stdout",
     "output_type": "stream",
     "text": [
      "Number of +1 samples: 96\n",
      "Number of -1 samples: 104\n"
     ]
    }
   ],
   "source": [
    "print(\"Number of +1 samples:\", len(y[y==1]))\n",
    "print(\"Number of -1 samples:\", len(y[y!=1]))"
   ]
  },
  {
   "cell_type": "markdown",
   "metadata": {},
   "source": [
    "Next we compute the matrix $Q$ that is a constant part of our loss function:"
   ]
  },
  {
   "cell_type": "code",
   "execution_count": 8,
   "metadata": {},
   "outputs": [],
   "source": [
    "def Q(x, y):\n",
    "    K = rbf_kernel(x, gamma=2)\n",
    "    for i in range(K.shape[0]):\n",
    "        for j in range(K.shape[1]):\n",
    "            K[i, j] = K[i, j] * y[i] * y[j]            \n",
    "    return K\n",
    "\n",
    "q = Q(x, y)"
   ]
  },
  {
   "cell_type": "markdown",
   "metadata": {},
   "source": [
    "This pretty much is all we need for optimization. We use `cvxpy`, since it's probably the easiest way to solve the loss function. As stated above there are more efficient algorithms available, but for the sake of the implementation this suffices."
   ]
  },
  {
   "cell_type": "markdown",
   "metadata": {},
   "source": [
    "First we declare the variable we want to optimize ($\\alpha$). We need to specify its length, which is the number of samples:"
   ]
  },
  {
   "cell_type": "code",
   "execution_count": 9,
   "metadata": {},
   "outputs": [],
   "source": [
    "alpha = Variable(N)"
   ]
  },
  {
   "cell_type": "markdown",
   "metadata": {},
   "source": [
    "Then we specify the loss function:"
   ]
  },
  {
   "cell_type": "code",
   "execution_count": 10,
   "metadata": {},
   "outputs": [],
   "source": [
    "loss = .5 * quad_form(alpha, q) -  sum_entries(alpha)"
   ]
  },
  {
   "cell_type": "markdown",
   "metadata": {},
   "source": [
    "As a last step we formulate the problem, i.e. a minimization problem of the loss function. We also need to specify the constraints. Here I used $\\alpha_i \\le C$ with $C= 10$. Usually you would need to find this, for instance, with cross-validation."
   ]
  },
  {
   "cell_type": "code",
   "execution_count": 11,
   "metadata": {},
   "outputs": [],
   "source": [
    "prob = Problem(Minimize(loss),\n",
    "             [alpha >= 0, alpha <= 10, alpha.T * y == 0])"
   ]
  },
  {
   "cell_type": "markdown",
   "metadata": {},
   "source": [
    "Solve the problem:"
   ]
  },
  {
   "cell_type": "code",
   "execution_count": 12,
   "metadata": {},
   "outputs": [],
   "source": [
    "solv = prob.solve()"
   ]
  },
  {
   "cell_type": "markdown",
   "metadata": {},
   "source": [
    "That's it. We only need to retrieve the optimal estimates $\\hat{\\alpha}$:"
   ]
  },
  {
   "cell_type": "code",
   "execution_count": 13,
   "metadata": {},
   "outputs": [],
   "source": [
    "alpha  = numpy.asarray(alpha.value).reshape(-1)"
   ]
  },
  {
   "cell_type": "markdown",
   "metadata": {},
   "source": [
    "Finally let's benchmark our implementation vs `sklearn`. First we implement a function to predict a new label"
   ]
  },
  {
   "cell_type": "code",
   "execution_count": 14,
   "metadata": {},
   "outputs": [],
   "source": [
    "def predict(x_new):\n",
    "    x_new = x_new.reshape((1, x.shape[1]))\n",
    "    ret = 0\n",
    "    for i in range(x.shape[0]):\n",
    "        ret += alpha[i] * y[i] * rbf_kernel(x[i, :].reshape((1, x.shape[1])), x_new)\n",
    "    return numpy.sign(ret[0])"
   ]
  },
  {
   "cell_type": "markdown",
   "metadata": {},
   "source": [
    "Then we predict $\\hat{y}_{\\text{new}}$ for our implementation and the `sklearn` SVM."
   ]
  },
  {
   "cell_type": "code",
   "execution_count": 15,
   "metadata": {},
   "outputs": [],
   "source": [
    "y_new_hat = numpy.array([predict(xt)[0] for xt in x_test])"
   ]
  },
  {
   "cell_type": "code",
   "execution_count": 16,
   "metadata": {},
   "outputs": [],
   "source": [
    "y_svm_hat = svm.SVC(kernel=\"rbf\", gamma=2).fit(x, y).predict(x_test)"
   ]
  },
  {
   "cell_type": "markdown",
   "metadata": {},
   "source": [
    "As a last step we plot confusion matrices for the two predictors."
   ]
  },
  {
   "cell_type": "code",
   "execution_count": 17,
   "metadata": {},
   "outputs": [],
   "source": [
    "def plot_confusion_matrix(cm, classes, title):\n",
    "    import itertools\n",
    "    plt.imshow(cm, interpolation='nearest', cmap=plt.cm.Blues)\n",
    "    plt.colorbar()\n",
    "    tick_marks = numpy.arange(2)\n",
    "    plt.xticks(tick_marks, classes, rotation=45)\n",
    "    plt.yticks(tick_marks, classes)\n",
    "\n",
    "    fmt = '.2f'\n",
    "    thresh = cm.max() / 2.\n",
    "    for i, j in itertools.product(range(cm.shape[0]), range(cm.shape[1])):\n",
    "        plt.text(j, i, format(cm[i, j], fmt),\n",
    "                 horizontalalignment=\"center\",\n",
    "                 color=\"white\" if cm[i, j] > thresh else \"black\")\n",
    "    plt.tight_layout()\n",
    "    plt.title(title)\n",
    "    plt.ylabel('True label')\n",
    "    plt.xlabel('Predicted label')"
   ]
  },
  {
   "cell_type": "code",
   "execution_count": 18,
   "metadata": {},
   "outputs": [
    {
     "data": {
      "image/png": "[encoded data removed]",
      "text/plain": [
       "<matplotlib.figure.Figure at 0x1146c5cf8>"
      ]
     },
     "metadata": {},
     "output_type": "display_data"
    }
   ],
   "source": [
    "plot_confusion_matrix(confusion_matrix(y_test, y_new_hat), classes=[\"1\", \"-1\"], title=\"our predictor\")"
   ]
  },
  {
   "cell_type": "code",
   "execution_count": 19,
   "metadata": {},
   "outputs": [
    {
     "data": {
      "image/png": "[encoded data removed]",
      "text/plain": [
       "<matplotlib.figure.Figure at 0x114a1c940>"
      ]
     },
     "metadata": {},
     "output_type": "display_data"
    }
   ],
   "source": [
    "plot_confusion_matrix(confusion_matrix(y_test, y_svm_hat), classes=[\"1\", \"-1\"], title=\"sklearn predictor\")"
   ]
  },
  {
   "cell_type": "markdown",
   "metadata": {},
   "source": [
    "Almost the same. :)"
   ]
  }
 ],
 "metadata": {
  "kernelspec": {
    "display_name": "Python 3",
    "language": "python",
    "name": "python3"
  },
  "language_info": {
   "codemirror_mode": {
    "name": "ipython",
    "version": 3
   },
   "file_extension": ".py",
   "mimetype": "text/x-python",
   "name": "python",
   "nbconvert_exporter": "python",
   "pygments_lexer": "ipython3",
   "version": "3.6.4"
  }
 },
 "nbformat": 4,
 "nbformat_minor": 2
}
