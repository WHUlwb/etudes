{
 "cells": [
  {
   "cell_type": "markdown",
   "metadata": {},
   "source": [
    "\n",
    "\n",
    "\n",
    "\n",
    "# Gaussian process classification\n",
    "\n",
    "In the case of binomial or multinomial random variables the likelihood is obviously non-Gaussian. Thus the posterior $p(\\mathbf{f} \\mid \\mathbf{X}, \\mathbf{y})$ also is non-Gaussian,  has no analytical form and has to be approximated. A simple, straightforward approximation is Laplace's method using Newton updates:\n",
    "\\begin{align}\n",
    "P(\\mathbf{f} \\mid \\mathbf{x}, \\mathbf{y}) & \\approx q(\\mathbf{f} \\mid \\mathbf{x}, \\mathbf{y}) \\\\\n",
    "& = \\mathcal{N}( \\bar{\\mathbf{f}} , (  \\mathbf{K}^{-1} + \\mathbf{W}  )^{-1}  ),\n",
    "\\end{align}\n",
    "where $\\mathbf{W} =  - \\nabla \\nabla \\log (\\mathbf{y} \\mid \\mathbf{f})$. For instance, in a binomial setting using the logistic function\n",
    "\\begin{equation}\n",
    "\\mathbf{W} = \\operatorname{diag}(\\sigma_1(1 - \\sigma_1), \\dots,  \\sigma_n(1 - \\sigma_n))\n",
    "\\end{equation}\n",
    "\\cite{rasmussen2006gaussian, barberBRML2012} shows the details.  Using the approximation of the posterior, we can calculate the predictive distribution of a latent variable $f^*$:\n",
    "\\begin{align}\n",
    "q(f^* \\mid x^*, \\mathbf{x}, \\mathbf{y}) & = \\int P(f^* \\mid {x}^*, \\mathbf{x}, \\mathbf{f}) q(\\mathbf{f} \\mid \\mathbf{x}, \\mathbf{y})d\\mathbf{f} \\\\\n",
    "\\mathbb{E}[f^* \\mid x^*, \\mathbf{x}, \\mathbf{y}] & =  \\kappa({x}^*, \\mathbf{x} )(\\mathbf{y} -  \\sigma(\\bar{\\mathbf{f}})) \\\\\n",
    "\\mathbb{V}[f^* \\mid x^*, \\mathbf{x}, \\mathbf{y}] & =  \\kappa({x}^*, {x}^*) - \\kappa({x}^*, \\mathbf{x} ) (\\mathbf{K} + \\mathbf{W}^{-1} )^{-1}  \\kappa(\\mathbf{x}, {x}^*)\n",
    "\\end{align}\n",
    "\n",
    "The class of a novel data-point $y^*$ is then calculated as:\n",
    "\\begin{align}\n",
    "P(y^* = 1 \\mid x^*, \\mathbf{x}, \\mathbf{y}) & = \\int \\sigma(y^*) q(f^* \\mid x^*, \\mathbf{x}, \\mathbf{y}) d f^* \\\\\n",
    "& =   \\int \\sigma(y^*) \\mathcal{N}(\\mathbb{E}[f^*], \\mathbb{V}[f^*]  ) d f^*,\n",
    "\\end{align}\n",
    "which can be calculated using the gaussian error function \\cite{lnorm}.\n"
   ]
  },
  {
   "cell_type": "code",
   "execution_count": null,
   "metadata": {},
   "outputs": [],
   "source": []
  }
 ],
 "metadata": {
  "kernelspec": {
   "display_name": "Python 3",
   "language": "python",
   "name": "python3"
  },
  "language_info": {
   "codemirror_mode": {
    "name": "ipython",
    "version": 3
   },
   "file_extension": ".py",
   "mimetype": "text/x-python",
   "name": "python",
   "nbconvert_exporter": "python",
   "pygments_lexer": "ipython3",
   "version": "3.6.4"
  }
 },
 "nbformat": 4,
 "nbformat_minor": 2
}
