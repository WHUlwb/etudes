{
 "cells": [
  {
   "cell_type": "markdown",
   "metadata": {},
   "source": [
    "# Gaussian process classification\n",
    "\n",
    "[Section 2](02-gaussian_process_regression.ipynb) introduced how we can use Gaussian processes for regression when we assumed normally distributed data. In that scenario derivation of the posterior GP was especially easy, because it has a closed form solution.\n",
    "\n",
    "In this section we will extend the GP framework with classification of data consisting of two groups, where we use most material from [Rasmussen and Williams (2006)](http://www.gaussianprocess.org/gpml/).\n",
    "\n",
    "We will again use `GPy` and `scipy` for demonstration.\n",
    "\n",
    "As usual **I do not take warranty for the correctness or completeness of this document.**"
   ]
  },
  {
   "cell_type": "code",
   "execution_count": 18,
   "metadata": {},
   "outputs": [],
   "source": [
    "import GPy\n",
    "import scipy\n",
    "from sklearn.metrics.pairwise import rbf_kernel\n",
    "from scipy.special import expit\n",
    "from scipy.stats import bernoulli \n",
    "\n",
    "%matplotlib inline\n",
    "import matplotlib.pyplot as plt\n",
    "plt.rcParams['figure.figsize'] = [15, 6]\n",
    "\n",
    "N = 5\n",
    "base = plt.cm.get_cmap(\"viridis\")\n",
    "color_list = base(scipy.linspace(0, 1, N))"
   ]
  },
  {
   "cell_type": "code",
   "execution_count": 2,
   "metadata": {},
   "outputs": [],
   "source": [
    "rnorm = scipy.stats.norm.rvs\n",
    "mvrnorm = scipy.stats.multivariate_normal.rvs"
   ]
  },
  {
   "cell_type": "markdown",
   "metadata": {},
   "source": [
    "###  GP prior\n",
    "\n",
    "For classification we will still use a Gaussian process prior, even though our data is not Gaussian:\n",
    "\n",
    "\\begin{align*}\n",
    "f(\\mathbf{x}) & \\sim \\mathcal{GP}(m(\\mathbf{x}), k(\\mathbf{x}, \\mathbf{x}')) ,\\\\\n",
    "p(f \\mid \\mathbf{x}) & = \\mathcal{N}(m(\\mathbf{x}), k(\\mathbf{x}, \\mathbf{x}')),\n",
    "\\end{align*}\n",
    "\n",
    "where $m$ is again the mean function and $k$ is a *kernel function* $k$ is a psd kernel with respective hyperparameters.\n",
    "\n",
    "For classification we will a data set $\\mathcal{D} = \\{(\\mathbf{x}_i, y_i)\\}_{i=1}^n$ with $y_i \\in \\{0, 1\\}$.\n",
    "\n",
    "Consequently, we need tp *squash* a **latent** sample of the GP prior through a logistic function to receive a prior on the probabilities $\\pi(\\mathbf{x})$, i.e. the expeted values of $y_i$;\n",
    "\n",
    "\\begin{equation}\n",
    "\\pi(x) = \\frac{1}{1+\\exp(-x)}\n",
    "\\end{equation}"
   ]
  },
  {
   "cell_type": "markdown",
   "metadata": {},
   "source": [
    "Let's visualize some prior samples $\\pi(\\cdot)$. First we generate some data:"
   ]
  },
  {
   "cell_type": "code",
   "execution_count": 48,
   "metadata": {},
   "outputs": [],
   "source": [
    "scipy.random.seed(23)\n",
    "\n",
    "n = 50\n",
    "x = scipy.linspace(0, 1, n).reshape((n, 1))\n",
    "beta = 2\n",
    "z = expit(scipy.sin(x) * beta)\n",
    "y = scipy.zeros(n)\n",
    "y[int(n/2):] = 1"
   ]
  },
  {
   "cell_type": "code",
   "execution_count": 49,
   "metadata": {},
   "outputs": [
    {
     "data": {
      "image/png": "[encoded data removed]",
      "text/plain": [
       "<matplotlib.figure.Figure at 0x1210b3668>"
      ]
     },
     "metadata": {},
     "output_type": "display_data"
    }
   ],
   "source": [
    "_, ax = plt.subplots()\n",
    "ax.scatter(scipy.sin(x), y, color=\"blue\")\n",
    "plt.xlabel(\"$x$\", fontsize=25)\n",
    "plt.ylabel(\"$y$\", fontsize=25)\n",
    "ax.tick_params(axis='both', which='major', labelsize=20)\n",
    "ax.tick_params(length=0, color=\"black\")\n",
    "ax.spines[\"top\"].set_visible(False)\n",
    "ax.spines[\"right\"].set_visible(False)\n",
    "plt.show()"
   ]
  },
  {
   "cell_type": "code",
   "execution_count": 50,
   "metadata": {},
   "outputs": [],
   "source": [
    "m = scipy.zeros(n)\n",
    "kernel = GPy.kern.RBF(input_dim=1)\n",
    "\n",
    "k = kernel.K(x, x)\n",
    "lik = GPy.likelihoods.Bernoulli()"
   ]
  },
  {
   "cell_type": "code",
   "execution_count": 51,
   "metadata": {},
   "outputs": [],
   "source": [
    "f_prior = mvrnorm(mean=m, cov=k)\n",
    "p_prior = lik.gp_link.transf(f_prior)\n",
    "y_prior = lik.samples(f_prior).reshape(-1,1) "
   ]
  },
  {
   "cell_type": "code",
   "execution_count": 59,
   "metadata": {},
   "outputs": [
    {
     "data": {
      "image/png": "[encoded data removed]",
      "text/plain": [
       "<matplotlib.figure.Figure at 0x12461d8d0>"
      ]
     },
     "metadata": {},
     "output_type": "display_data"
    }
   ],
   "source": [
    "_, ax = plt.subplots()\n",
    "ax.scatter(x, p_prior, color=\"k\", marker=\"o\", alpha=0.75, label=\"P prior\")\n",
    "ax.scatter(x, y_prior, color=\"blue\", marker=\"x\", alpha=0.75, label=\"Y prior\")\n",
    "ax.spines['top'].set_visible(False)\n",
    "ax.spines['right'].set_visible(False)\n",
    "ax.tick_params(axis='both', which='major', labelsize=20)\n",
    "ax.tick_params(length=0, color=\"black\")\n",
    "plt.legend()\n",
    "plt.show()"
   ]
  },
  {
   "cell_type": "markdown",
   "metadata": {},
   "source": [
    "### GP posterior\n",
    "\n",
    "We will use a binomial likelihood for constructing the posterior:\n",
    "\n",
    "\\begin{align*}\n",
    "p(\\mathbf{y} \\mid f, \\mathbf{x}) = \\prod_i^n \\mathcal{Bernoulli}\\left(\\text{logit}^{-1} \\left(f \\right) \\right),\n",
    "\\end{align*}\n",
    "\n",
    "where we used a *logit link function*. The inverse of the $\\text{logit}$ is the well-known $\\text{logistic}$ function which we already defined above. We will call the inverse of the link function the *mean function*. The necessity of a mean function is the same as in GLMs: relating the expected value of the response to the predictor.\n",
    "\n",
    "The posterior Gaussian process is then given by:\n",
    "\n",
    "\\begin{align*}\n",
    "\\text{posterior} & \\propto \\text{likelihood} \\times \\text{prior},\\\\\n",
    "p(f \\mid \\mathbf{y}, \\mathbf{x}) & \\propto p(\\mathbf{y} \\mid f, \\mathbf{x}) \\ p(f \\mid \\mathbf{x}).\n",
    "\\end{align*}\n",
    "\n",
    "Since the prior is not conjugate to the likelihood, the posterior does not have an analytical form and thus needs to bei either approximated deterministically, e.g using Laplace's approximation, expectation propagation or variationally, or stochastically using sampling. I'll go over two different approaches:\n",
    "\n",
    "- the Laplace approximation (which is one of the typical textbook examples due),\n",
    "- a Markov Chain Monte Carlo sampler.\n",
    "\n",
    "Both the stochastic and deterministic approach have pros and cons, I believe, and there is a large body of literature discussing the two. "
   ]
  },
  {
   "cell_type": "markdown",
   "metadata": {},
   "source": [
    "#### Laplace approximation to the posterior\n",
    "\n",
    "Since the Gaussian process prior distribution is multivariate Gaussian, the posterior is often also fairly close to a multivariate Gaussian, is unimodal and roughly symmetric. Note that this implies that for more complex likelihoods the normal approximation should be a fairly bad choice.\n",
    "\n",
    "We will use a second-order Taylor expansion around the mode $\\bar{f} $ of the log-posterior $\\log p(f \\mid \\mathbf{y}, \\mathbf{x})$, i.e.\n",
    "\n",
    "\\begin{align*}\n",
    "\\log p(f \\mid \\mathbf{y}, \\mathbf{x}) = & \\ \\underbrace{\\log p(\\bar{f} \\mid \\mathbf{y}, \\mathbf{x})}_{\\text{constant}} \\\\ \n",
    "& + \\underbrace{(f - \\bar{f}) \\left[ \\frac{\\partial  }{\\partial f} \\log p({f} \\mid \\mathbf{y}, \\mathbf{x})  \\right]_{\\mid \\;f = \\bar{f}}}_{0} \\\\\n",
    "& + \\frac{1}{2}(f - \\bar{f})^T \\left[ \\frac{\\partial^2 }{\\partial f^2} \\log p({f} \\mid \\mathbf{y}, \\mathbf{x})  \\right]_{\\mid \\;f = \\bar{f}}(f - \\bar{f}) \\\\\n",
    "& + \\dots\n",
    "\\end{align*}\n",
    "\n",
    "The first line is a constant in the mode $\\bar{f}$. The first partial derivative evaluated at $f = \\bar{f}$ is zero, because it is the mode of the function, so we can safely omit it. The other higher order derivatives can also be omitted due to the fact that they have less relative importance for large $n$. So let's take a closer look at the second partial derivative. We see that\n",
    "\n",
    "\\begin{align*}\n",
    "\\frac{1}{2}(f - \\bar{f})^T \\left[ \\frac{\\partial^2 }{\\partial f^2} \\log p({f} \\mid \\mathbf{y}, \\mathbf{x})  \\right]_{\\mid \\;f = \\bar{f}}(f - \\bar{f})\n",
    "\\end{align*}\n",
    "\n",
    "is proportional to the exponent of a multivariate normal distribution with mean $\\boldsymbol \\mu = \\bar{f}$ and variance $\\boldsymbol  \\Sigma = \\left( - \\frac{\\partial^2 }{\\partial f^2} \\log p({f} \\mid \\mathbf{y}, \\mathbf{x})\\right)^{-1} $. So we use this to approximate the posterior as:\n",
    "\n",
    "\\begin{align*}\n",
    "p(f \\mid \\mathbf{y}, \\mathbf{x}) & \\approx q(f \\mid \\mathbf{x}, \\mathbf{y}) \\\\\n",
    "& = \\mathcal{N}\\left(\\bar{f} , \\left( - \\frac{\\partial^2 }{\\partial f^2} \\log p({f} \\mid \\mathbf{y}, \\mathbf{x})  \\right)^{-1}\\right).\n",
    "\\end{align*}"
   ]
  },
  {
   "cell_type": "markdown",
   "metadata": {},
   "source": [
    "In order to find the mode $\\bar{f}$ of the posterior $p(f \\mid \\mathbf{y}, \\mathbf{x})$, we need to maximize it, or the logarithm of it:\n",
    "\n",
    "\\begin{align*}\n",
    "\\log p(f \\mid \\mathbf{y}, \\mathbf{x}) = \\log p(\\mathbf{y} \\mid f, \\mathbf{x}) + \\log p(f \\mid \\mathbf{x}) - \\log(\\mathbf{y} \\mid \\mathbf{x}).\n",
    "\\end{align*}\n",
    "\n",
    "Maximizing the posterior w.r.t. $f$ is independent of the marginal likelihood, so it suffices to maximize\n",
    "\n",
    "\\begin{align*}\n",
    "\\Psi(f) = \\log p(\\mathbf{y} \\mid f, \\mathbf{x}) + \\log p(f \\mid \\mathbf{x}).\n",
    "\\end{align*}\n",
    "\n",
    "We can optimze this using a standard gradient based solver, but since we need the Hessian matrix anyways for the variance of the normal approximation, it makes sense to use Newton's method. We will not go into the details of this maximization here, because they are trivial to implement once the Jacobian and Hessian are derived (see [Rasmussen and Williams (2006)](http://www.gaussianprocess.org/gpml/)). \n",
    "\n",
    "The Jacobian and Hessian of $\\Psi(f)$ are given by:\n",
    "\n",
    "\\begin{align*}\n",
    "\\frac{\\partial }{\\partial f} \\Psi &= \\frac{\\partial}{\\partial f} \\log p(\\mathbf{y} \\mid f, \\mathbf{x}) - k(\\mathbf{x}, \\mathbf{x}')^{-1}f,\\\\\n",
    "\\frac{\\partial^2 }{\\partial f^2}\\Psi & = \\frac{\\partial^2}{\\partial f^2}  \\log p(\\mathbf{y}\\mid f, \\mathbf{x}) -k(\\mathbf{x}, \\mathbf{x}')^{-1}.\n",
    "\\end{align*}\n",
    "\n",
    "If we solve for $\\bar{f}$, the approximate posterior is given as:\n",
    "\n",
    "\\begin{align*}\n",
    "q(f \\mid \\mathbf{y}, \\mathbf{x}) = \\mathcal{N}(\\bar{f}, \\frac{\\partial^2}{\\partial f^2}  \\log p(\\mathbf{y}\\mid f, \\mathbf{x}) -k(\\mathbf{x}, \\mathbf{x}')^{-1} ),\n",
    "\\end{align*}\n",
    "\n",
    "where the Hessian of the likelihood depends on the choice of the mean function. If we use a logistic mean function, then the second derivative is:\n",
    "\n",
    "\\begin{align*}\n",
    "\\frac{\\partial^2}{\\partial f^2}  \\log p(\\mathbf{y}\\mid f, \\mathbf{x}) =  \\operatorname{diag}(\\sigma_1(1 - \\sigma_1), \\dots,  \\sigma_n(1 - \\sigma_n))\n",
    "\\end{align*}"
   ]
  },
  {
   "cell_type": "markdown",
   "metadata": {},
   "source": [
    "Let's again demostrate this using `GPy`. First we set the model and the inference method of our choice: the Laplace approximation as explained above. For convenience we redefine the kernel and likelihood from above."
   ]
  },
  {
   "cell_type": "code",
   "execution_count": 79,
   "metadata": {},
   "outputs": [],
   "source": [
    "m = GPy.core.GP(X = x.reshape((n, 1)),\n",
    "                Y = y.reshape((n, 1)), \n",
    "                kernel = GPy.kern.RBF(input_dim=1), \n",
    "                inference_method = GPy.inference.latent_function_inference.Laplace(),\n",
    "                likelihood = GPy.likelihoods.Bernoulli())"
   ]
  },
  {
   "cell_type": "code",
   "execution_count": 91,
   "metadata": {},
   "outputs": [
    {
     "data": {
      "text/plain": [
       "array([[0.07933654],\n",
       "       [0.08539292],\n",
       "       [0.09211628],\n",
       "       [0.09956355],\n",
       "       [0.10779345],\n",
       "       [0.1168657 ],\n",
       "       [0.12683997],\n",
       "       [0.13777459],\n",
       "       [0.14972516],\n",
       "       [0.16274283],\n",
       "       [0.17687251],\n",
       "       [0.19215091],\n",
       "       [0.20860453],\n",
       "       [0.2262476 ],\n",
       "       [0.24508022],\n",
       "       [0.26508659],\n",
       "       [0.28623363],\n",
       "       [0.30846992],\n",
       "       [0.33172522],\n",
       "       [0.35591048],\n",
       "       [0.38091854],\n",
       "       [0.40662551],\n",
       "       [0.43289271],\n",
       "       [0.45956925],\n",
       "       [0.48649517],\n",
       "       [0.51350483],\n",
       "       [0.54043075],\n",
       "       [0.56710729],\n",
       "       [0.59337449],\n",
       "       [0.61908146],\n",
       "       [0.64408952],\n",
       "       [0.66827478],\n",
       "       [0.69153008],\n",
       "       [0.71376637],\n",
       "       [0.73491341],\n",
       "       [0.75491978],\n",
       "       [0.7737524 ],\n",
       "       [0.79139547],\n",
       "       [0.80784909],\n",
       "       [0.82312749],\n",
       "       [0.83725717],\n",
       "       [0.85027484],\n",
       "       [0.86222541],\n",
       "       [0.87316003],\n",
       "       [0.8831343 ],\n",
       "       [0.89220655],\n",
       "       [0.90043645],\n",
       "       [0.90788372],\n",
       "       [0.91460708],\n",
       "       [0.92066346]])"
      ]
     },
     "execution_count": 91,
     "metadata": {},
     "output_type": "execute_result"
    }
   ],
   "source": [
    "f = m.predict(x)\n",
    "f[0]"
   ]
  },
  {
   "cell_type": "code",
   "execution_count": 93,
   "metadata": {},
   "outputs": [
    {
     "data": {
      "image/png": "[encoded data removed]",
      "text/plain": [
       "<matplotlib.figure.Figure at 0x121524518>"
      ]
     },
     "metadata": {},
     "output_type": "display_data"
    }
   ],
   "source": [
    "plt.scatter(x, y, color=\"k\", marker=\"o\", alpha=0.75, label=\"Y\")\n",
    "plt.scatter(x, f[0], color=\"k\", marker=\"o\", alpha=0.75, label=\"Prediction\")\n",
    "plt.legend()\n",
    "plt.show()"
   ]
  },
  {
   "cell_type": "markdown",
   "metadata": {},
   "source": [
    "### Posterior predictive"
   ]
  },
  {
   "cell_type": "markdown",
   "metadata": {},
   "source": [
    "Using the approximation of the posterior, we can calculate the predictive distribution of the latent variable $f^*$ for new data $\\mathbf{x}$:\n",
    "\n",
    "\\begin{align}\n",
    "q(f^* \\mid x^*, \\mathbf{x}, \\mathbf{y}) & = \\int P(f^* \\mid {x}^*, \\mathbf{x}, \\mathbf{f}) q(\\mathbf{f} \\mid \\mathbf{x}, \\mathbf{y})d\\mathbf{f} \\\\\n",
    "\\mathbb{E}[f^* \\mid x^*, \\mathbf{x}, \\mathbf{y}] & =  \\kappa({x}^*, \\mathbf{x} )(\\mathbf{y} -  \\sigma(\\bar{\\mathbf{f}})) \\\\\n",
    "\\mathbb{V}[f^* \\mid x^*, \\mathbf{x}, \\mathbf{y}] & =  \\kappa({x}^*, {x}^*) - \\kappa({x}^*, \\mathbf{x} ) (\\mathbf{K} + \\mathbf{W}^{-1} )^{-1}  \\kappa(\\mathbf{x}, {x}^*)\n",
    "\\end{align}\n",
    "\n",
    "The class of a novel data-point $y^*$ is then calculated as:\n",
    "\n",
    "\\begin{align}\n",
    "P(y^* = 1 \\mid x^*, \\mathbf{x}, \\mathbf{y}) & = \\int \\sigma(y^*) q(f^* \\mid x^*, \\mathbf{x}, \\mathbf{y}) d f^* \\\\\n",
    "& =   \\int \\sigma(y^*) \\mathcal{N}(\\mathbb{E}[f^*], \\mathbb{V}[f^*]  ) d f^*,\n",
    "\\end{align}\n",
    "\n",
    "which can be calculated using the gaussian error function \\cite{lnorm}.\n"
   ]
  },
  {
   "cell_type": "markdown",
   "metadata": {},
   "source": [
    "For instance, in a binomial setting using the logistic function\n",
    "\n",
    "\\begin{equation}\n",
    "\\mathbf{W} = \\operatorname{diag}(\\sigma_1(1 - \\sigma_1), \\dots,  \\sigma_n(1 - \\sigma_n))\n",
    "\\end{equation}\n",
    "where $\\mathbf{W} =  - \\nabla \\nabla \\log (\\mathbf{y} \\mid \\mathbf{f})$. "
   ]
  },
  {
   "cell_type": "code",
   "execution_count": null,
   "metadata": {},
   "outputs": [],
   "source": []
  }
 ],
 "metadata": {
  "kernelspec": {
   "display_name": "Python 3",
   "language": "python",
   "name": "python3"
  },
  "language_info": {
   "codemirror_mode": {
    "name": "ipython",
    "version": 3
   },
   "file_extension": ".py",
   "mimetype": "text/x-python",
   "name": "python",
   "nbconvert_exporter": "python",
   "pygments_lexer": "ipython3",
   "version": "3.6.4"
  }
 },
 "nbformat": 4,
 "nbformat_minor": 2
}
