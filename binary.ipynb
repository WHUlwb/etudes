{
 "cells": [
  {
   "cell_type": "code",
   "execution_count": 24,
   "metadata": {},
   "outputs": [
    {
     "name": "stderr",
     "output_type": "stream",
     "text": [
      "Loading required package: coda\n",
      "\n",
      "Attaching package: ‘coda’\n",
      "\n",
      "The following object is masked from ‘package:greta’:\n",
      "\n",
      "    mcmc\n",
      "\n",
      "Loading required package: MASS\n",
      "##\n",
      "## Markov Chain Monte Carlo Package (MCMCpack)\n",
      "## Copyright (C) 2003-2019 Andrew D. Martin, Kevin M. Quinn, and Jong Hee Park\n",
      "##\n",
      "## Support provided by the U.S. National Science Foundation\n",
      "## (Grants SES-0350646 and SES-0350613)\n",
      "##\n"
     ]
    }
   ],
   "source": [
    "library(greta)\n",
    "library(MCMCpack)\n",
    "library(coda)"
   ]
  },
  {
   "cell_type": "code",
   "execution_count": 2,
   "metadata": {},
   "outputs": [],
   "source": [
    "n <- 10\n",
    "k <- 3\n",
    "p <- 5\n",
    "probs <- seq(0.1, 0.9, length.out = k)"
   ]
  },
  {
   "cell_type": "code",
   "execution_count": 3,
   "metadata": {},
   "outputs": [],
   "source": [
    "l <- list()\n",
    "for (i in probs) {\n",
    "    l[[paste(i)]] <- matrix(rbinom(n * p, 1, prob = i), n, p)\n",
    "}"
   ]
  },
  {
   "cell_type": "code",
   "execution_count": 4,
   "metadata": {},
   "outputs": [],
   "source": [
    "D <- do.call(\"rbind\", l)"
   ]
  },
  {
   "cell_type": "code",
   "execution_count": 17,
   "metadata": {},
   "outputs": [],
   "source": [
    "?princomp"
   ]
  },
  {
   "cell_type": "code",
   "execution_count": 7,
   "metadata": {},
   "outputs": [],
   "source": [
    "pcs <- princomp(D)"
   ]
  },
  {
   "cell_type": "code",
   "execution_count": 42,
   "metadata": {},
   "outputs": [],
   "source": [
    "betas1 <- greta::beta(1, 1, dim = 1)\n",
    "betas2 <- greta::beta(1, 1, dim = 1)\n",
    "betas3 <- greta::beta(1, 1, dim = 1)\n",
    "weights <- greta::uniform(0, 1, dim=k)\n",
    "for (i in seq(nrow(D))) {\n",
    "    for (j in seq(ncol(D))) {\n",
    "    distribution(D[i,j]) <- mixture(bernoulli(betas1, dim = 1),\n",
    "                                    bernoulli(betas2, dim = 1), \n",
    "                                    bernoulli(betas3, dim = 1),\n",
    "                                    weights = weights)\n",
    "        }\n",
    "}"
   ]
  },
  {
   "cell_type": "code",
   "execution_count": 43,
   "metadata": {},
   "outputs": [],
   "source": [
    "m <- model(betas1, betas2, betas3, weights)"
   ]
  },
  {
   "cell_type": "code",
   "execution_count": 44,
   "metadata": {},
   "outputs": [],
   "source": [
    "samps <- mcmc(m)"
   ]
  },
  {
   "cell_type": "code",
   "execution_count": 48,
   "metadata": {},
   "outputs": [
    {
     "ename": "ERROR",
     "evalue": "Error in data.frame(var1 = as.numeric(x), row.names = row.names): (list) object cannot be coerced to type 'double'\n",
     "output_type": "error",
     "traceback": [
      "Error in data.frame(var1 = as.numeric(x), row.names = row.names): (list) object cannot be coerced to type 'double'\nTraceback:\n",
      "1. as.data.frame(samps)",
      "2. as.data.frame.mcmc(samps)",
      "3. data.frame(var1 = as.numeric(x), row.names = row.names)"
     ]
    }
   ],
   "source": [
    "as.data.frame(samps)"
   ]
  },
  {
   "cell_type": "code",
   "execution_count": 46,
   "metadata": {},
   "outputs": [
    {
     "ename": "ERROR",
     "evalue": "Error in character(ncol(y)): invalid 'length' argument\n",
     "output_type": "error",
     "traceback": [
      "Error in character(ncol(y)): invalid 'length' argument\nTraceback:\n",
      "1. plot(samps)",
      "2. plot.mcmc(samps)",
      "3. mcmc(as.matrix(x)[, i, drop = FALSE], start(x), end(x), thin(x))",
      "4. as.matrix(x)",
      "5. as.matrix.mcmc(x)",
      "6. character(ncol(y))"
     ]
    }
   ],
   "source": [
    "plot(samps)"
   ]
  },
  {
   "cell_type": "code",
   "execution_count": null,
   "metadata": {},
   "outputs": [],
   "source": []
  }
 ],
 "metadata": {
  "kernelspec": {
   "display_name": "R 3.5",
   "language": "R",
   "name": "ir35"
  },
  "language_info": {
   "codemirror_mode": "r",
   "file_extension": ".r",
   "mimetype": "text/x-r-source",
   "name": "R",
   "pygments_lexer": "r",
   "version": "3.5.1"
  }
 },
 "nbformat": 4,
 "nbformat_minor": 2
}
